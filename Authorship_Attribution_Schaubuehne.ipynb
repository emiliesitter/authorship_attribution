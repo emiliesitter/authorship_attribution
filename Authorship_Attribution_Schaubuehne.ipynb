{
 "cells": [
  {
   "cell_type": "markdown",
   "metadata": {},
   "source": [
    "# *Authorship Attribution*\n",
    "\n",
    "## *Untersuchung der Texte \"von einem Clown\" in der \"Schaubühne\"*"
   ]
  },
  {
   "cell_type": "code",
   "execution_count": 1,
   "metadata": {},
   "outputs": [],
   "source": [
    "import os\n",
    "import re\n",
    "import math\n",
    "from collections import Counter\n",
    "\n",
    "import numpy as np\n",
    "import pandas as pd\n",
    "\n",
    "from nltk.tokenize import word_tokenize\n",
    "import spacy\n",
    "nlp = spacy.load(\"de_core_news_sm\")\n",
    "\n",
    "import sklearn.feature_extraction.text as sk_text\n",
    "import sklearn.preprocessing as preprocessing\n",
    "from sklearn.feature_extraction.text import CountVectorizer\n",
    "import sklearn.decomposition\n",
    "import sklearn.metrics as metrics\n",
    "\n",
    "import matplotlib.pyplot as plt\n",
    "%matplotlib inline\n",
    "\n",
    "import scipy.spatial.distance as scidist\n",
    "import scipy.cluster.hierarchy as hierarchy"
   ]
  },
  {
   "cell_type": "markdown",
   "metadata": {},
   "source": [
    "# 1. Einführung und Fragestellung\n",
    "\n",
    "*Die Schaubühne* war eine Wochenzeitschrift, die 1905 vom Berliner Theaterkritiker Siegfried Jacobson gegründet wurde. War sie zuerst eine reine Theater- und Kulturzeitschrift, wurde sie 1918 in *Weltbühne* umbenannt und begann sich auch politischen Themen zu widmen. Die *Schaubühne* erschien wöchentlich und wurde jeweils in zwei Bänden pro Jahr im Umfang von etwa 700 Seiten zusammengefasst. Die Autoren der Artikel sind unterschiedlich, ein großer Teil von ihnen wurde vom Herausgeber Siegfried Jacobson selbst verfasst, daneben finden sich Artikel von prominenten Kritikern wie Julius Bab und Willi Handl, Gedichte, Auszüge aus Dramen und Gastbeiträge von Schauspieler\\*innen, KünstlerInnen, anderen Theaterkritiker\\*innen und Personen aus der Theaterszene der ersten Hälfte des 20. Jahrhunderts (Austrian Academy of Sciences 2022). \n",
    "\n",
    "Einige dieser Artikel wurde aus unterschiedlichen Gründen unter Pseudonymen verfasst, einer davon ist schlichtweg, dass nicht immer wieder dieselben Namen jener Autor\\*innen, die die meisten Artikel schreiben, unter den jeweiligen Texten erscheinen. Die drei Artikel „von einem Clown“ aus den Jahren 1908 bis 1910, deren AutorIn in dieser Arbeit herausgefunden werden soll, befassen sich mit den prekären Arbeitsbedingungen für Schauspieler\\*innen an deutschsprachigen Theatern und der anonyme Autor gibt Insiderinformationen, die ihn gewissermaßen zum Whistleblower machen. In diesem Fall scheint das Pseudonym „Clown“ vor allem zum Schutz des Autors verwendet werden. \n",
    "\n",
    "Die Texte des Clowns bieten sich für die Fallstudie an, da mit drei Artikeln ausreichend Tokens vorliegen und sich die potenziellen Kandidaten durch den Hinweis von Projektleiterin Dr. Imelda Rohrbacher, die an der digitalen Edition der *Schaubühne* arbeitet, dass der „Clown“ Schauspieler war, zumindest etwas einschränken lassen. \n",
    "\n",
    "Grundvoraussetzung für ein Ergebnis der Studie ist, dass der „Clown“ auch unter Klarnamen zumindest einmal in der *Schaubühne* publiziert hat und damit in die Liste der potenziellen Kandidat\\*innen aufgenommen wird. Es ist nicht auszuschließen, dass der „Clown“ nie unter Klarnamen in der Schaubühne publiziert hat und daher nicht berücksichtig werden konnte, da es faktisch unmöglich wäre, zusätzlich ein Referenzkorpus von Schauspieler\\*innen, die in der Zeit um 1910 an deutschen Bühnen aktiv waren, aber *nicht* in der *Schaubühne* publiziert haben, zu erstellen. \n",
    "\n",
    "Von allen SchauspielerInnen, die in der Schaubühne einige Jahre vor und nach Erscheinen der Clown-Texte publiziert haben, konnten sich leider auch nicht genug Referenztexte finden lassen und sie können aufgrund dessen in großen Teilen der Untersuchung nicht berücksichtigt werden. Andererseits ist vielleicht anzunehmen, dass eine Person, die *ausschließlich* Schauspieler\\*in war und sich ansonsten in ihrem gesamten Leben nicht unter Klarnamen schriftstellerisch betätigt hat, auch nicht AutorIn der drei längeren Artikel über einen Zeitraum von drei Jahren hinweg war. \n",
    "\n",
    "Tatsächlich kristallisierten sich unter den Autoren, von denen genug Tokens vorliegen, zwei Kandidaten heraus, die als „Clown“ in Frage kommen. Am Ende erscheint der Schauspieler, Regisseur und Dramaturg Otto Kienscherf als der wahrscheinlichste Autor der „Clown“-Texte. \n",
    "\n"
   ]
  },
  {
   "cell_type": "markdown",
   "metadata": {},
   "source": [
    "# 2. Datengrundlage\n",
    "\n",
    "Das digitale Editionsprojekt des Austrian Centre for Digital Humanities an der Österreichischen Akademie der Wissenschaften umfasst Annotation der Digitalisate der Schaubühne, Registererstellung, Verknüpfung mit Normdatensätzen, technische Einrichtung und open access-Publikation (ÖAW 2022). Das Projekt läuft seit weniger als zwei Jahren und die Daten sind online noch nicht verfügbar, aufgrund meines Praktikums am ACDH CH verfüge ich aber über frühe Versionen der Digitalisate der Bände 2.1 bis 8.2 (von 1906 bis 1913) im XML-Format. Die Annotationen in diesen Bänden sind noch nicht standardisiert, was aber keine Rolle spielt, da das Markup ohnehin entfernt wird und für diese Untersuchung nur der reine Text behalten wird. \n",
    "\n",
    "Die Korpora wurden hauptsächlich aus Texten dieser Bände der *Schaubühne* zusammengestellt. Wenn dort nur zu wenig Text für einen Autor zu finden ist, wurden die Referenzkorpora, wenn möglich, durch Publikationen der jeweiligen Autoren außerhalb der *Schaubühne* erweitert. Die Referenzkorpora für die beiden Autoren Max Martersteig und Otto Kienscherf, die sich als am wahrscheinlichsten herausgestellt haben, wurden zusätzlich durch mehrere Texte erweitert, um den Vergleich mit einer größeren Textmenge zu ermöglichen."
   ]
  },
  {
   "cell_type": "markdown",
   "metadata": {},
   "source": [
    "## 2.1 Einlesen der Daten"
   ]
  },
  {
   "cell_type": "markdown",
   "metadata": {},
   "source": [
    "### 2.1.1 Einlesen der Clown-Texte\n",
    "\n",
    "Folgende Texte publizierte der anonyme Autor, aufgeteilt auf mehrere Ausgaben, unter dem Pseudonym „Clown“:\n",
    "\n",
    "-\t„Moderne Sklaven“ in Band 3.1\n",
    "-\t„Menschenhandel“ in Band 4.1\n",
    "-\t„Theatertrust“ in Band 4.2\n",
    "\n",
    "Die drei Texte prangern Missstände an Theatern im deutschsprachigen Raum an und befassen sich mit der rechtlichen Situation für dort angestellte Personen. \n",
    "\n",
    "Die Texte werden hier inklusive Markup eingelesen und werden als Values einem Dicitionary angefügt, Keys sind die Namen der Textfiles, in denen die Texte gespeichert wurden (zusammegesetzt aus \"Clown\", Bandnummer, Textitel)."
   ]
  },
  {
   "cell_type": "code",
   "execution_count": 2,
   "metadata": {},
   "outputs": [],
   "source": [
    "path_corpus = \"Korpora\"\n",
    "clown_texts = [\"Clown_4_1_Menschenhandel.txt\", \"Clown_4_2_Theatertrust.txt\", \"Clown_3_1_Moderne_Sklaven.txt\"]\n",
    "clown = {}\n",
    "\n",
    "for text in clown_texts:\n",
    "    file_path=os.path.join(path_corpus, text)\n",
    "    with open(file_path, \"r\", encoding=\"utf8\") as f:\n",
    "        clown_text = f.read()\n",
    "        clown[text] = clown_text\n",
    "    "
   ]
  },
  {
   "cell_type": "markdown",
   "metadata": {},
   "source": [
    "### 2.1.2 Einlesen der Referenztexte\n",
    "\n",
    "18 Personen qualifizierten sich nach umfangreicher Recherche als Urheber der \"Clown\"-Texte. Die meisten von ihnen sind Schauspieler, da in einer früheren Ausgabe der *Schaubühne* die Clown-Serie mit dem Hinweis, dass die Texte von einem Schauspieler stammen würden, angekündigt wurde. Zusätzlich wurden Richard Treitel und Julius Bab, die Theaterkritiker und keine Schauspieler waren, zu den Referenzkorpora hinzugefügt, da sie viele Artikel, auch unter aufgelösten Pseudonymen, für die *Schaubühne* verfasst haben und sich auch ähnlichen Themen widmen. Die Liste der Schauspieler, die hier als potenzielle Kandidaten genauer untersucht werden, wurde auf Basis der Bände 3.1 bis 8.2 erstellt: grundsätzlich kamen alle Schauspieler, die in diesen Bänden einen Text veröffentlicht haben, in Frage, eingeschränkt wurde diese Anzahl dann noch durch Hinweise von Projektleiterin Dr. Imelda Rohrbacher, die aufgrund ihrer Expertise bestimmte Personen als Autor ausschließen konnte, und durch weitere Recherche zum Hintergrund der potenziellen Kandidaten (Personen, die *ausschließlich* Texte zu gänzlich anderen Themen als allem, was in die juristische oder soziale Richtung geht, publiziert oder sich nur in anderem Genre, wie z.B. Drama, bewegt haben, wurden damit ausgeschlossen) eingeschränkt. \n",
    "\n",
    "Ziel war, in den mir verfügbaren Bänden der *Schaubühne* zumindest Referenztexte im Umfang von 2000 Tokens zu finden. War dies nicht möglich, wurden, wenn möglich, die Referenzkorpora durch externe Quellen erweitert, um zumindest 2000 Tokens zu erreichen. Für Max Martersteig und Otto Kienscherf, die sich als die wahrscheinlichsten Autorenkandidaten herausgestellt haben, wurden noch mehr Referenztexte hinzugefügt. All diese Texte werden hier eingelesen und in einem Dictionary gespeichert, Keys sind jeweils die Namen der Autoren (abgespeichert zuerst in Ordnern, benannt mit Vorname_Nachname der Autoren, die Textfiles benannt mit Nachname, ggf. Band, wenn in der *Schaubühne* publiziert, und bis zu 4 Wörtern des Texttitels). \n",
    "\n",
    "\n",
    "*(__Anmerkung:__ Der relative Pfad funktioniert hier nicht, was mir leider absolut unerklärlich ist und wofür ich keine Lösung finden konnte. Für \"directory\" bitte den absoluten Pfad einsetzen.)*"
   ]
  },
  {
   "cell_type": "code",
   "execution_count": 3,
   "metadata": {},
   "outputs": [],
   "source": [
    "directory = \"\"\n",
    "authors = [name for name in os.listdir(directory)] # alle Texte sind in nach den Autoren benannten Ordnern gespeichert, ihre Namen werden in einer Liste gespeichert\n",
    "reference = {}\n",
    "\n",
    "for author in authors: \n",
    "    path=os.path.join(directory, author) # Pfad zu den Ordnen für die einzelnen Schauspieler\n",
    "    for filename in os.scandir(path): # iterieren über alle Objekte (als os.DirEntry-Objekte) in den Unterordnern\n",
    "        if not filename.name.endswith('.txt'): # wenn der Name des Files NICHT auf \".txt\" endet ...\n",
    "            continue # ... endet die Iteration und die nächste beginnt\n",
    "        file_path = os.path.join(path, filename) # Pfad zu allen Files in den Unterordnern\n",
    "        if author not in reference.keys(): # wenn es noch keinen Eintrag zum Autor im Reference-Dict gibt, \n",
    "            reference[author] = \"\" # wird hier einer erstellt\n",
    "        with open(file_path, \"r\", encoding=\"utf8\") as f: # die Textdatei wird geöffnet\n",
    "            text = f.read()\n",
    "            reference[author] += text # und ihr Text dem jeweiligen Autor angefügt"
   ]
  },
  {
   "cell_type": "markdown",
   "metadata": {},
   "source": [
    "## 2.2 Preprocessing\n",
    "\n",
    "### 2.2.1 Allgemeine Vorbereitung der Texte und Referenztexte\n",
    "\n",
    "Im nächsten Schritt werden die Korpora in eine Form gebracht, mit der sie weiterverarbeitet werden können. \n",
    "\n",
    "Zuerst werden die Schreibweisen der Texte vereinheitlicht. Im Frakturdruck werden am Wortbeginn in der Schaubühne und auch einigen anderen Quellen der Referenztexte große J statt I verwendet. Um dies zu vereinheitlichen und auch großgeschreibene und klein geschriebene Wörter vergleichbar zu machen, werden in allen häufigen Wörtern, die eventuell in die Liste der most frequent words aufgenommen werden könnten, diese großen J durch I ersetzt. Auch alle scharfen ß werden durch ss ersetzt, damit hier mögliche verschiedene Schreibweisen kein Problem darstellen. Die Schreibweise *giebt* wird zu *gibt* vereinheitlicht. \n",
    "\n",
    "Als wichtigster Schritt im Preprocessing wird das gesamte Markup der XML-Dateien entfernt. \n",
    "\n",
    "Danach werden die Texte tokenisiert und mit SpaCy lemmatisiert."
   ]
  },
  {
   "cell_type": "code",
   "execution_count": 4,
   "metadata": {},
   "outputs": [],
   "source": [
    "# Dictionary mit häufigen Wörtern, die mit großem J statt I beginnen (können)\n",
    "\n",
    "j_to_i = {\"Jm\": \"im\", \"Jch\": \"ich\", \"Jnnern\": \"innern\", \"Jndien\": \"Indien\", \"Jnszenierung\": \"Inszenierung\", \"Jn\": \"in\", \"Jdeal\": \"Ideal\", \"Jmpression\": \"Impression\", \"Jhr\": \"Ihr\", \"Jdee\": \"Idee\", \"Jllusion\": \"Illusion\", \"Jst\": \"ist\", \"Jhnen\": \"ihnen\"}"
   ]
  },
  {
   "cell_type": "code",
   "execution_count": 5,
   "metadata": {},
   "outputs": [],
   "source": [
    "def preprocess(corpus):\n",
    "    \n",
    "    for text in corpus:\n",
    "        \n",
    "        # Ersetzen der Js durch Is im Fraktur-Digitalisat\n",
    "        for j, i in j_to_i.items():\n",
    "            corpus[text] = re.sub(j, i, corpus[text])\n",
    "            \n",
    "        # Entfernen der Tags und Standardisierung\n",
    "        corpus[text] = re.sub(r'<TITLE>.*</TITLE>', '', corpus[text], count=0) # Entfernen der Texttitel\n",
    "        corpus[text] = re.sub(r'<TITLEPART.*</TITLEPART>', '', corpus[text], count=0) # Entfernen der Texttitel\n",
    "        corpus[text] = re.sub(r'\\n<lb break=\"no\"/>', '', corpus[text]) # Zusammenfügen abgeteilter Wörter\n",
    "        corpus[text] = re.sub(r'<lb/>', ' ', corpus[text]) # Ersetzen der Line-Beginnings durch ein Leerzeichen\n",
    "        corpus[text] = re.sub(r'<fw.*</fw>', '', corpus[text]) # Entfernen der Seitenzahlen\n",
    "        corpus[text] = re.sub(r'ß', 'ss', corpus[text]) # Ersetzen aller scharfen ß\n",
    "        corpus[text] = re.sub(r'giebt', 'gibt', corpus[text]) # Ersetzen von giebt mit gibt für Vereinheitlichung\n",
    "        corpus[text] = re.sub(r'<.*?>', '', corpus[text]) # Entfernen aller übrigen Tags\n",
    "    \n",
    "    # Tokenisieren\n",
    "    corpus_tokenized = {}\n",
    "    for text in corpus: \n",
    "        tokens = word_tokenize(corpus[text])\n",
    "        text_tokenized = [token.lower() for token in tokens if token not in \"./\\_*(),;:!“„?—‘...——.–=§\"]\n",
    "        corpus_tokenized[text] = text_tokenized\n",
    "    \n",
    "    # Lemmatisieren\n",
    "    corpus_lemmatized = {}\n",
    "    for text in corpus_tokenized:\n",
    "        doc = nlp(\" \".join(corpus_tokenized[text]))\n",
    "        text_lemmatized = [token.lemma_ for token in doc]\n",
    "        corpus_lemmatized[text] = text_lemmatized\n",
    "        \n",
    "    return corpus_lemmatized"
   ]
  },
  {
   "cell_type": "code",
   "execution_count": 6,
   "metadata": {},
   "outputs": [],
   "source": [
    "corpus_clown = preprocess(clown)\n",
    "reference_corpus = preprocess(reference)"
   ]
  },
  {
   "cell_type": "markdown",
   "metadata": {},
   "source": [
    "**Es liegen jetzt Referenztexte und die Texte des \"Clowns\" in folgendem Umfang zur weiteren Untersuchung vor:**"
   ]
  },
  {
   "cell_type": "code",
   "execution_count": 7,
   "metadata": {},
   "outputs": [
    {
     "name": "stdout",
     "output_type": "stream",
     "text": [
      "Adolf_Winds: 4635 Tokens\n",
      "Albert_Boree: 2305 Tokens\n",
      "Alfred_Auerbach: 2787 Tokens\n",
      "Alfred_Halm: 1929 Tokens\n",
      "Egon_Friedell: 13379 Tokens\n",
      "Ernst_Clefeld: 2741 Tokens\n",
      "Franz_Blei: 2836 Tokens\n",
      "Franz_Kreidemann: 1804 Tokens\n",
      "Franz_Vallentin: 2258 Tokens\n",
      "Hanns_Hannsen: 4105 Tokens\n",
      "Hans_Olden: 4465 Tokens\n",
      "Julius_Bab: 4427 Tokens\n",
      "Max_Martersteig: 12987 Tokens\n",
      "Max_Pategg: 1589 Tokens\n",
      "Oscar_Sauer: 242 Tokens\n",
      "Otto_Kienscherf: 11118 Tokens\n",
      "Richard_Treitel: 5931 Tokens\n",
      "Rudolf_Bluemner: 2043 Tokens\n"
     ]
    }
   ],
   "source": [
    "for author, text in reference_corpus.items():\n",
    "    print(f\"{author}: {len(text)} Tokens\")"
   ]
  },
  {
   "cell_type": "code",
   "execution_count": 8,
   "metadata": {},
   "outputs": [
    {
     "name": "stdout",
     "output_type": "stream",
     "text": [
      "Clown_4_1_Menschenhandel: 4708\n",
      "Clown_4_2_Theatertrust: 1641\n",
      "Clown_3_1_Moderne_Sklaven: 13683\n"
     ]
    }
   ],
   "source": [
    "for title, text in corpus_clown.items():\n",
    "    text_title = title.split(\".\")[0]\n",
    "    print(f\"{text_title}: {len(text)}\")"
   ]
  },
  {
   "cell_type": "markdown",
   "metadata": {},
   "source": [
    "### 2.2.2 Splitten des Clown-Corpus in Chunks\n",
    "\n",
    "Für die Untersuchung werden zu Beginn Chunks von je 2000 Tokens verwendet. Die Länge bietet sich an, da für die meisten Autorenkandidaten, wie oben ersichtlich, zumindset ca. 2000 verfügbar sind.\n",
    "\n",
    "Damit der gesamte verfügbare Text des \"Clowns\" verwendet werden kann und nicht nur jeweils die ersten 2000 Tokens, wie das bei den Referenztexten gemacht wird, werden die drei Texte des Clowns in mehrere Chunks von jeweils 2000 Tokens gesplittet. Der zweite, etwas kürzere Text, muss leider in dieser Länge beibehalten werden."
   ]
  },
  {
   "cell_type": "code",
   "execution_count": 9,
   "metadata": {},
   "outputs": [
    {
     "name": "stdout",
     "output_type": "stream",
     "text": [
      "Insgesamt können die Texte des anonymen Autors in 9 Chunks mit einer Länge von maximal 2000 Tokens gesplittet werden.\n"
     ]
    }
   ],
   "source": [
    "chunk_size = 2000\n",
    "\n",
    "clown_chunks = []\n",
    "\n",
    "for text in corpus_clown.values():\n",
    "    \n",
    "    chunk_start = 0\n",
    "    chunk_end = chunk_size\n",
    "    \n",
    "    if len(text) <= chunk_size: # Texte mit einer geringeren Länge als 2000 Tokens werden behalten\n",
    "        clown_chunks.append(text)\n",
    "        \n",
    "    else:\n",
    "    \n",
    "        while chunk_end <= len(text):\n",
    "            clown_chunks.append(text[chunk_start:chunk_end]) #von längeren Texten werden die Tokens 0 bis 1999 genommen\n",
    "            chunk_start += chunk_size # danach werden die Tokens erhöht auf 2000 bis 3999 etc.\n",
    "            chunk_end += chunk_size # solange, bis das Ende des Chunks höher wäre als der Text überhaupt Tokens hat\n",
    "\n",
    "        \n",
    "print(f\"Insgesamt können die Texte des anonymen Autors in {len(clown_chunks)} Chunks mit einer Länge von maximal {chunk_size} Tokens gesplittet werden.\")"
   ]
  },
  {
   "cell_type": "markdown",
   "metadata": {},
   "source": [
    "Für die weitere Verarbeitung müssen die Texte, die momentan noch in Listenform vorliegen, in Strings umgewandelt werden. \n",
    "\n",
    "Für eine besserer Darstellung der Ergebnisse werden diese Strings durchnummeriert. In einer separaten Liste werden ihre Bezeichnungen (\"C\" + eine Nummer) abgespeichert."
   ]
  },
  {
   "cell_type": "code",
   "execution_count": 10,
   "metadata": {},
   "outputs": [],
   "source": [
    "clown_chunks = [\" \".join(chunk) for chunk in clown_chunks]\n",
    "clown_names = [f\"C{n+1}\" for n in range (len(clown_chunks))]"
   ]
  },
  {
   "cell_type": "code",
   "execution_count": 11,
   "metadata": {},
   "outputs": [
    {
     "name": "stdout",
     "output_type": "stream",
     "text": [
      "C1: 2000\n",
      "C2: 2000\n",
      "C3: 1641\n",
      "C4: 2000\n",
      "C5: 2000\n",
      "C6: 2000\n",
      "C7: 2000\n",
      "C8: 2000\n",
      "C9: 2000\n"
     ]
    }
   ],
   "source": [
    "for name, chunk in zip(clown_names, clown_chunks):\n",
    "    print(f\"{name}: {len(chunk.split(' '))}\")"
   ]
  },
  {
   "cell_type": "markdown",
   "metadata": {},
   "source": [
    "### 2.2.3 Kürzen der Referenztexte\n",
    "\n",
    "Von den Referenztexten werden jeweils die ersten 2000 Tokens genommen und als Liste in einem Dictionary abgespeichert, dessen Keys die Namen der Autoren sind."
   ]
  },
  {
   "cell_type": "code",
   "execution_count": 12,
   "metadata": {},
   "outputs": [
    {
     "name": "stdout",
     "output_type": "stream",
     "text": [
      "Adolf_Winds: 2000 Tokens\n",
      "Albert_Boree: 2000 Tokens\n",
      "Alfred_Auerbach: 2000 Tokens\n",
      "Alfred_Halm: 1929 Tokens\n",
      "Egon_Friedell: 2000 Tokens\n",
      "Ernst_Clefeld: 2000 Tokens\n",
      "Franz_Blei: 2000 Tokens\n",
      "Franz_Kreidemann: 1804 Tokens\n",
      "Franz_Vallentin: 2000 Tokens\n",
      "Hanns_Hannsen: 2000 Tokens\n",
      "Hans_Olden: 2000 Tokens\n",
      "Julius_Bab: 2000 Tokens\n",
      "Max_Martersteig: 2000 Tokens\n",
      "Max_Pategg: 1589 Tokens\n",
      "Oscar_Sauer: 242 Tokens\n",
      "Otto_Kienscherf: 2000 Tokens\n",
      "Richard_Treitel: 2000 Tokens\n",
      "Rudolf_Bluemner: 2000 Tokens\n"
     ]
    }
   ],
   "source": [
    "def shorten_corpus(corpus):\n",
    "\n",
    "    corpus_shortened = {}\n",
    "    for k, v in corpus.items():\n",
    "        corpus_shortened[k] = v[:2000]\n",
    "\n",
    "    return(corpus_shortened)\n",
    "\n",
    "reference_shortened = shorten_corpus(reference_corpus)\n",
    "\n",
    "for k, v in reference_shortened.items():\n",
    "    print(f\"{k}: {len(v)} Tokens\")"
   ]
  },
  {
   "cell_type": "markdown",
   "metadata": {},
   "source": [
    "**Entfernen aller zu kurzen und damit nicht vergleichbaren Texte**\n",
    "\n",
    "Alle Texte mit unter 1800 Tokens werden aussortiert. Auf diese Weise bleibt Franz Kreidemann im Korpus und ist zwar etwas kürzer als 2000 Tokens, Max Pategg und Oscar Sauer können leider nicht weiter überprüft werden und werden erst im nächsten Schritt mit den N-Grammen miteinbezogen."
   ]
  },
  {
   "cell_type": "code",
   "execution_count": 13,
   "metadata": {},
   "outputs": [
    {
     "name": "stdout",
     "output_type": "stream",
     "text": [
      "Adolf_Winds: 2000 Tokens\n",
      "Albert_Boree: 2000 Tokens\n",
      "Alfred_Auerbach: 2000 Tokens\n",
      "Alfred_Halm: 1929 Tokens\n",
      "Egon_Friedell: 2000 Tokens\n",
      "Ernst_Clefeld: 2000 Tokens\n",
      "Franz_Blei: 2000 Tokens\n",
      "Franz_Kreidemann: 1804 Tokens\n",
      "Franz_Vallentin: 2000 Tokens\n",
      "Hanns_Hannsen: 2000 Tokens\n",
      "Hans_Olden: 2000 Tokens\n",
      "Julius_Bab: 2000 Tokens\n",
      "Max_Martersteig: 2000 Tokens\n",
      "Otto_Kienscherf: 2000 Tokens\n",
      "Richard_Treitel: 2000 Tokens\n",
      "Rudolf_Bluemner: 2000 Tokens\n"
     ]
    }
   ],
   "source": [
    "def remove_less_then_1800_tokens(corpus):\n",
    "\n",
    "    corpus_1800 = {}\n",
    "    \n",
    "    for author, text in corpus.items():\n",
    "        if len(text) >= 1800: # nur wenn ein Text mindestens 1800 Tokens hat ...\n",
    "            corpus_1800[author] = text # ... wird er dem neuen Dictionary hinzugefügt\n",
    "        \n",
    "    return corpus_1800\n",
    "\n",
    "reference_shortened = remove_less_then_1800_tokens(reference_shortened)\n",
    "\n",
    "for k, v in reference_shortened.items():\n",
    "    print(f\"{k}: {len(v)} Tokens\")"
   ]
  },
  {
   "cell_type": "markdown",
   "metadata": {},
   "source": [
    "Damit die Referenztexte weiterverarbeitet werden können, müssen sie wie die Texte des Clowns in einer Liste von Strings abgespeichert werden."
   ]
  },
  {
   "cell_type": "code",
   "execution_count": 14,
   "metadata": {},
   "outputs": [],
   "source": [
    "authors = [author for author in reference_shortened.keys()]\n",
    "documents = [\" \".join(text) for text in reference_shortened.values()]"
   ]
  },
  {
   "cell_type": "markdown",
   "metadata": {},
   "source": [
    "## 2.3 Erstellen des Vokabulars\n",
    "\n",
    "Für die Authorship Attribution werden nur die ca. 50 bis 100 häufigsten Funktionswörter des gesuchten Autors mit den Worthäufigkeiten der Autorenkandidaten vergleichen. Diese werden in Listen mit unterschiedlich vielen häufigsten Wörter abgespeichert, sodass diese Listen später als Parameter verwendet werden können und genauer betrachtet werden kann, welche Vokabulargröße in diesem konkreten Fall zu den besten Ergebnissen führt. Es werden dafür die häufigsten Wörter der gesamten drei Clown-Texte gezählt. Bedeutungstragende Wörter, die nur typisch für die drei vom \"Clown\" vorliegenden Texte sind, werden mit *#* gekennzeichnet und später nicht im Vokabular berücksichtigt."
   ]
  },
  {
   "cell_type": "markdown",
   "metadata": {},
   "source": [
    "Auswahl der Most Frequent Words:"
   ]
  },
  {
   "cell_type": "code",
   "execution_count": 15,
   "metadata": {},
   "outputs": [],
   "source": [
    "number_of_mfw = 50\n",
    "#number_of_mfw = 75\n",
    "#number_of_mfw = 100\n",
    "\n",
    "word_count = Counter([word for article in corpus_clown.values() for word in article if word not in \"=.\"]) # Zählen der Wörter ALLER Clown-Texte\n",
    "mfws = [word for word, count in word_count.most_common(number_of_mfw)] # die number_of_mfw-häufigsten Wörter werden einer Liste hinzugefügt"
   ]
  },
  {
   "cell_type": "markdown",
   "metadata": {},
   "source": [
    "Abspeichern der Wörter in einem txt-File:"
   ]
  },
  {
   "cell_type": "code",
   "execution_count": 16,
   "metadata": {},
   "outputs": [],
   "source": [
    "with open (\"mfws_clown.txt\", \"w\") as f: \n",
    "    for word in mfws: \n",
    "        f.write(\"%s\\n\" % word)"
   ]
  },
  {
   "cell_type": "markdown",
   "metadata": {},
   "source": [
    "Funktion zum Einlesen aller Wörter, die nicht mit *#* gekennzeichnet sind:"
   ]
  },
  {
   "cell_type": "code",
   "execution_count": 17,
   "metadata": {},
   "outputs": [],
   "source": [
    "def load_vocab(file):\n",
    "    vocab = [l.strip() for l in open(file) if not l.startswith('#') and l.strip()]\n",
    "    return vocab"
   ]
  },
  {
   "cell_type": "markdown",
   "metadata": {},
   "source": [
    "Abspeichern des entsprechenden Vokabulars in einer Liste:"
   ]
  },
  {
   "cell_type": "code",
   "execution_count": 18,
   "metadata": {},
   "outputs": [
    {
     "name": "stdout",
     "output_type": "stream",
     "text": [
      "47 68 83\n",
      "['der', 'ich', 'und', 'sich', 'sein', 'einen', 'zu', 'in', 'mein', 'dies']\n"
     ]
    }
   ],
   "source": [
    "vocab_50 = load_vocab(\"mfws_clown_50.txt\")\n",
    "vocab_75 = load_vocab(\"mfws_clown_75.txt\")\n",
    "vocab_100 = load_vocab(\"mfws_clown_100.txt\")\n",
    "\n",
    "print(len(vocab_50), len(vocab_75), len(vocab_100))\n",
    "print(vocab_50[:10])"
   ]
  },
  {
   "cell_type": "markdown",
   "metadata": {},
   "source": [
    "## 2.4 Vektorisieren, Normalisieren und Skalieren der Korpora"
   ]
  },
  {
   "cell_type": "markdown",
   "metadata": {},
   "source": [
    "Folgende Funktion hat die Referenztexte, die Clown-Texte und das Vokabular in einer bestimmten Größe als Parameter. Im ersten Schritt werden die Texte vektorisiert. Der CountVectorizer erstellt die Document-Term-Matrix für die Referenztexte auf Basis des angegebenen Vokabulars. Output ist ein Array mit der Größe Anzahl Dokumente x Vokabular, in dem die absoluten Häufigkeiten jedes Worts im Vokabular für jedes Dokument gespeichert sind. Danach werden die Werte nach L1-Norm normalisiert. L1 verändert die Werte so, dass die Summe aller Werte für ein Dokument 1 ergibt. Mit dem Scaler im dritten Schritt werden die Z-Scores ermittelt. Z-Scores geben die Entfernung eines Werts vom Mittelpunkt an und berechnen sich durch die Standardabweichung. "
   ]
  },
  {
   "cell_type": "code",
   "execution_count": 19,
   "metadata": {},
   "outputs": [],
   "source": [
    "def preprocess_corpus(reference_documents, unknown_documents, vocab_size):\n",
    "    \n",
    "    # Vektorisieren\n",
    "    vectorizer = CountVectorizer(token_pattern=r\"(?u)\\b\\w+\\b\", vocabulary=vocab_size)\n",
    "    v_documents = vectorizer.fit_transform(reference_documents).toarray()\n",
    "    v_unknown = vectorizer.transform(unknown_documents).toarray()\n",
    "    \n",
    "    # Normalisieren nach L1-Norm\n",
    "    p_documents = preprocessing.normalize(v_documents.astype(float), norm='l1')\n",
    "    p_unknown = preprocessing.normalize(v_unknown.astype(float), norm='l1')\n",
    "    \n",
    "    # Berechnen Z-Scores\n",
    "    scaler = preprocessing.StandardScaler()\n",
    "    s_reference = scaler.fit_transform(p_documents)\n",
    "    s_clown = scaler.transform(p_unknown)\n",
    "    \n",
    "    return s_reference, s_clown"
   ]
  },
  {
   "cell_type": "markdown",
   "metadata": {},
   "source": [
    "# 3. Untersuchung\n",
    "\n",
    "## 3.1 Methoden\n",
    "\n",
    "Es wurden alle drei im Kurs behandelten Methoden Burrows Delta (mit Tokens und Character-N-Grammen), HAC und PCA angewandt. PCA und HAC stellten sich als schwer zu interpretieren und für diesen konkreten Fall eher unbrauchbar heraus, da auch mit Anpassung der Parameter zu keinen Ergebnissen führen und nicht einmal die Texte des „Clowns“ mit sich selbst clustern. Auch die Delta-Variante, für die Character-N-Gramms anstatt Tokens verwendet werden, ist problematisch. Ziel dieses Ansatzes war, auch jene Autoren, von denen nur wenige Tokens vorliegen, berücksichtigen zu können. Die Ergebnisse sind nicht aussagekräftig und stehen teilweise sogar in Widerspruch zu den Ergebnissen von Delta mit Tokens. Burrows Delta mit Tokens dagegen ermöglicht immerhin eine Eingrenzung der potenziellen Kandidaten und deutet darauf hin, dass Otto Kienscherf hinter dem „Clown“ steckt, auf den die anderen Methoden nicht vermuten lassen. "
   ]
  },
  {
   "cell_type": "markdown",
   "metadata": {},
   "source": [
    "## 3.2. Burrows Delta\n",
    "\n",
    "Burrows Delta ermittelt die Distanz zwischen einem Text (in diesem Fall jedem der Texte des „Clowns“) und einem Referenztext (die Texte der bekannten Autoren). Dafür wird aus den normalisierten Dokumentvektoren, basierend auf den most frequent words, die in der Funktion oben erstellt wurden, im vieldimensionalen Raum mittels euklidischer Distanz, Cosinus oder Cityblock/Manhattan-Distanz oder Abstand gemessen. Der Autor jenes Dokuments mit dem geringsten Abstand wird als wahrscheinlichster Autor für das Dokument unbekannten Autors vorhergesagt (Evert et al. 2017). Dem Ansatz liegt die Theorie zugrunde, dass der Gebrauch von nicht-bedeutungstragenden Funktionswörtern für einen bestimmten Autor über mehrere Texte hinweg konstant ist. Welche der Metriken verwendet wird sowie auch das verwendete Vokabular haben großen Einfluss auf die Ergebnisse. \n",
    "\n",
    "Die Funktion berechnet, falls diese nicht bereits zuvor berechnet wurden, die Z-Scores. Danach werden die Distanzen berechnet und das Dokument mit der geringsten Distanz wird ausgegeben. "
   ]
  },
  {
   "cell_type": "code",
   "execution_count": 20,
   "metadata": {},
   "outputs": [],
   "source": [
    "class Delta:\n",
    "    \"\"\"Delta-Based Authorship Attributer.\"\"\"\n",
    "\n",
    "    def fit(self, X, y):\n",
    "        \"\"\"Fit (or train) the attributer.\n",
    "\n",
    "        Arguments:\n",
    "            X: a two-dimensional array of size NxV, where N represents\n",
    "               the number of training documents, and V represents the\n",
    "               number of features used.\n",
    "            y: a list (or NumPy array) consisting of the observed author\n",
    "                for each document in X.\n",
    "\n",
    "        Returns:\n",
    "            Delta: A trained (fitted) instance of Delta.\n",
    "\n",
    "        \"\"\"\n",
    "        self.train_y = np.array(y)\n",
    "        self.scaler = preprocessing.StandardScaler(with_mean=False)\n",
    "        self.train_X = self.scaler.fit_transform(X)\n",
    "\n",
    "        return self\n",
    "\n",
    "    def predict(self, X, metric='cityblock'):\n",
    "        \"\"\"Predict the authorship for each document in X.\n",
    "\n",
    "        Arguments:\n",
    "            X: a two-dimensional (sparse) matrix of size NxV, where N\n",
    "               represents the number of test documents, and V represents\n",
    "               the number of features used during the fitting stage of\n",
    "               the attributer.\n",
    "            metric (str, optional): the metric used for computing\n",
    "               distances between documents. Defaults to 'cityblock'.\n",
    "\n",
    "        Returns:\n",
    "            ndarray: the predicted author for each document in X.\n",
    "\n",
    "        \"\"\"\n",
    "        X = self.scaler.transform(X)\n",
    "        dists = scidist.cdist(X, self.train_X, metric=metric)\n",
    "        return self.train_y[np.argmin(dists, axis=1)]"
   ]
  },
  {
   "cell_type": "markdown",
   "metadata": {},
   "source": [
    "### 3.2.1 Burrows Delta mit Tokens"
   ]
  },
  {
   "cell_type": "markdown",
   "metadata": {},
   "source": [
    "Folgende Funktion gibt die **Vorhersage für jeden Clown-Chunk für jede Metrik** aus. \n",
    "\n",
    "Parameter:\n",
    "\n",
    "- Chunks der Referenztexte, die verwendet werden sollen\n",
    "- Clown_Texte, die verwendet werden sollen\n",
    "- Die in Frage kommenden Kandidaten in Form einer Liste\n",
    "- Das entsprechende Vokabular\n",
    "- Die Namen der Clown-Texte, mit denen die Zeilen im Df benannt werden"
   ]
  },
  {
   "cell_type": "code",
   "execution_count": 21,
   "metadata": {},
   "outputs": [],
   "source": [
    "metrics_names = [\"cityblock\", \"cosine\", \"euclidean\"]"
   ]
  },
  {
   "cell_type": "code",
   "execution_count": 22,
   "metadata": {},
   "outputs": [],
   "source": [
    "def delta_predictions(reference_corpus, unknown_corpus, authors, vocab_size, row_names):\n",
    "    \n",
    "    delta_results = {}\n",
    "    \n",
    "    # Dokumente werden mit dem entsprechenden Vokabular vektorisiert und skaliert\n",
    "    s_reference, s_clown = preprocess_corpus(reference_corpus, unknown_corpus, vocab_size)\n",
    "    \n",
    "    # Delta Classifier wird instantiiert\n",
    "    delta = Delta()  \n",
    "    \n",
    "    # für jede Metrik wird für jeden Chunk des \"Clowns\" eine Vorhersage gemacht\n",
    "    for m in metrics_names:\n",
    "        \n",
    "        delta.fit(s_reference, authors)   # Delta Classifier wird gefitted\n",
    "        preds = delta.predict(s_clown, metric=m) \n",
    "        delta_results[m] = list(preds)\n",
    "        \n",
    "   # die Vorhersagen werden in einem Df abgespeichert\n",
    "    delta_results_df = pd.DataFrame(data=delta_results)\n",
    "    delta_results_df.index = row_names\n",
    "    delta_results_df\n",
    "    \n",
    "    return delta_results_df"
   ]
  },
  {
   "cell_type": "markdown",
   "metadata": {},
   "source": [
    "**Vorhersage für alle Chunks von 2000 Tokens für jede Metrik**\n",
    "\n",
    "Zuerst wird die Funktion auf die Chunks von je 2000 Tokens, die oben erstellt wurden, angewandt. (Zu berücksichtigen hier ist hier, dass Chunk 3 vom \"Clown\" etwas kürzer als 2000 Tokens ist!)"
   ]
  },
  {
   "cell_type": "code",
   "execution_count": 23,
   "metadata": {},
   "outputs": [
    {
     "data": {
      "text/html": [
       "<div>\n",
       "<style scoped>\n",
       "    .dataframe tbody tr th:only-of-type {\n",
       "        vertical-align: middle;\n",
       "    }\n",
       "\n",
       "    .dataframe tbody tr th {\n",
       "        vertical-align: top;\n",
       "    }\n",
       "\n",
       "    .dataframe thead th {\n",
       "        text-align: right;\n",
       "    }\n",
       "</style>\n",
       "<table border=\"1\" class=\"dataframe\">\n",
       "  <thead>\n",
       "    <tr style=\"text-align: right;\">\n",
       "      <th></th>\n",
       "      <th>cityblock</th>\n",
       "      <th>cosine</th>\n",
       "      <th>euclidean</th>\n",
       "    </tr>\n",
       "  </thead>\n",
       "  <tbody>\n",
       "    <tr>\n",
       "      <th>C1</th>\n",
       "      <td>Franz_Kreidemann</td>\n",
       "      <td>Franz_Kreidemann</td>\n",
       "      <td>Franz_Kreidemann</td>\n",
       "    </tr>\n",
       "    <tr>\n",
       "      <th>C2</th>\n",
       "      <td>Ernst_Clefeld</td>\n",
       "      <td>Ernst_Clefeld</td>\n",
       "      <td>Ernst_Clefeld</td>\n",
       "    </tr>\n",
       "    <tr>\n",
       "      <th>C3</th>\n",
       "      <td>Otto_Kienscherf</td>\n",
       "      <td>Otto_Kienscherf</td>\n",
       "      <td>Otto_Kienscherf</td>\n",
       "    </tr>\n",
       "    <tr>\n",
       "      <th>C4</th>\n",
       "      <td>Hanns_Hannsen</td>\n",
       "      <td>Richard_Treitel</td>\n",
       "      <td>Max_Martersteig</td>\n",
       "    </tr>\n",
       "    <tr>\n",
       "      <th>C5</th>\n",
       "      <td>Hanns_Hannsen</td>\n",
       "      <td>Richard_Treitel</td>\n",
       "      <td>Hanns_Hannsen</td>\n",
       "    </tr>\n",
       "    <tr>\n",
       "      <th>C6</th>\n",
       "      <td>Alfred_Halm</td>\n",
       "      <td>Franz_Vallentin</td>\n",
       "      <td>Alfred_Auerbach</td>\n",
       "    </tr>\n",
       "    <tr>\n",
       "      <th>C7</th>\n",
       "      <td>Otto_Kienscherf</td>\n",
       "      <td>Alfred_Halm</td>\n",
       "      <td>Otto_Kienscherf</td>\n",
       "    </tr>\n",
       "    <tr>\n",
       "      <th>C8</th>\n",
       "      <td>Hanns_Hannsen</td>\n",
       "      <td>Albert_Boree</td>\n",
       "      <td>Albert_Boree</td>\n",
       "    </tr>\n",
       "    <tr>\n",
       "      <th>C9</th>\n",
       "      <td>Hanns_Hannsen</td>\n",
       "      <td>Alfred_Halm</td>\n",
       "      <td>Alfred_Auerbach</td>\n",
       "    </tr>\n",
       "  </tbody>\n",
       "</table>\n",
       "</div>"
      ],
      "text/plain": [
       "           cityblock            cosine         euclidean\n",
       "C1  Franz_Kreidemann  Franz_Kreidemann  Franz_Kreidemann\n",
       "C2     Ernst_Clefeld     Ernst_Clefeld     Ernst_Clefeld\n",
       "C3   Otto_Kienscherf   Otto_Kienscherf   Otto_Kienscherf\n",
       "C4     Hanns_Hannsen   Richard_Treitel   Max_Martersteig\n",
       "C5     Hanns_Hannsen   Richard_Treitel     Hanns_Hannsen\n",
       "C6       Alfred_Halm   Franz_Vallentin   Alfred_Auerbach\n",
       "C7   Otto_Kienscherf       Alfred_Halm   Otto_Kienscherf\n",
       "C8     Hanns_Hannsen      Albert_Boree      Albert_Boree\n",
       "C9     Hanns_Hannsen       Alfred_Halm   Alfred_Auerbach"
      ]
     },
     "execution_count": 23,
     "metadata": {},
     "output_type": "execute_result"
    }
   ],
   "source": [
    "delta_predictions_df = delta_predictions(documents, clown_chunks, authors, vocab_75, clown_names)\n",
    "delta_predictions_df"
   ]
  },
  {
   "cell_type": "code",
   "execution_count": 24,
   "metadata": {},
   "outputs": [
    {
     "name": "stdout",
     "output_type": "stream",
     "text": [
      "In Frage kamen bisher 16 Autorenkandidaten.\n"
     ]
    }
   ],
   "source": [
    "print(f\"In Frage kamen bisher {len(authors)} Autorenkandidaten.\")"
   ]
  },
  {
   "cell_type": "markdown",
   "metadata": {},
   "source": [
    "Die Anzahl der möglichen Kandidaten wird damit immerhin ziemlich eingeschränkt! Kandidaten, die bei verschiedenem Vokabular nur sehr wenig vorausgesagt werden, können ausgeschieden werden. In Frage scheinen damit noch zu kommen: Kreidemann, Clefeld, Kienscherf, Martersteig, Treitel, Halm, Hannsen\n",
    "\n",
    "Die weiteren Untersuchungen sollen sich auf diese 7 Kandidaten in der engeren Auswahl beschränken, um herauszufinden, ob sich einer oder mehrere von ihnen noch als wahrscheinlicher herausstellen."
   ]
  },
  {
   "cell_type": "markdown",
   "metadata": {},
   "source": [
    "**Vergleich der durchschnittlichen Distanz der wahrscheinlichsten Autoren**\n",
    "\n",
    "Diese Funktion berechnet die durchschnittliche Distanz pro Metrik aller 9 Clown-Chunks zu diesen 7 Autoren in der engeren Auswahl. Die folgende Funktion ist in dieser Schreibweise relativ lang, weil der Übersichtlichkeit halber die Abstände für jede Metrik einzeln berechnet werden (ginge alternativ auch in einem Loop)."
   ]
  },
  {
   "cell_type": "code",
   "execution_count": 25,
   "metadata": {},
   "outputs": [],
   "source": [
    "authors_reduced = (\"Franz_Kreidemann\", \"Otto_Kienscherf\", \"Max_Martersteig\", \"Ernst_Clefeld\", \"Richard_Treitel\", \"Alfred_Halm\", \"Hanns_Hannsen\")"
   ]
  },
  {
   "cell_type": "code",
   "execution_count": 26,
   "metadata": {},
   "outputs": [],
   "source": [
    "def calculate_avg_distances(vocab_size):\n",
    "\n",
    "    # Dokumente werden mit dem entsprechenden Vokabular vektorisiert und skaliert\n",
    "    s_reference, s_clown = preprocess_corpus(documents, clown_chunks, vocab_size)\n",
    "\n",
    "    # Distanzen mit Cityblock werden berechnet und einem Dict angefügt\n",
    "    sum_distances = {}\n",
    "    for c, doc_name in zip(s_clown, clown_names):\n",
    "        distances = [ scidist.cityblock(c, doc) for doc in s_reference]\n",
    "\n",
    "        for distance, author in zip(distances, authors):\n",
    "            if author in authors_reduced:\n",
    "                if author not in sum_distances.keys(): \n",
    "                    sum_distances[author] = distance\n",
    "                else: \n",
    "                    sum_distances[author] += distance\n",
    "                                    \n",
    "    avg_distances_cb = {}\n",
    "\n",
    "    for author, distance in sum_distances.items():\n",
    "        avg_distance = distance/len(clown_names)\n",
    "        avg_distances_cb[author] = avg_distance\n",
    "\n",
    "    \n",
    "    # Distanzen mit Cosinus werden berechnet und einem Dict angefügt\n",
    "    sum_distances = {}\n",
    "\n",
    "    for c, doc_name in zip(s_clown, clown_names):\n",
    "        distances = [ scidist.cosine(c, doc) for doc in s_reference]\n",
    "\n",
    "        for distance, author in zip(distances, authors):\n",
    "            if author in authors_reduced:\n",
    "                if author not in sum_distances.keys(): \n",
    "                    sum_distances[author] = distance\n",
    "                else: \n",
    "                    sum_distances[author] += distance\n",
    "\n",
    "    avg_distances_cs = {}\n",
    "\n",
    "    for author, distance in sum_distances.items():\n",
    "        avg_distance = distance/len(clown_names)\n",
    "        avg_distances_cs[author] = avg_distance\n",
    "                    \n",
    "    \n",
    "    # Euklidische Distanzen werden berechnet und einem Dict angefügt\n",
    "    sum_distances = {}\n",
    "\n",
    "    for c, doc_name in zip(s_clown, clown_names):\n",
    "        distances = [ scidist.euclidean(c, doc) for doc in s_reference]\n",
    "\n",
    "        for distance, author in zip(distances, authors):\n",
    "            if author in authors_reduced:\n",
    "                if author not in sum_distances.keys(): \n",
    "                    sum_distances[author] = distance\n",
    "                else: \n",
    "                    sum_distances[author] += distance\n",
    "\n",
    "    avg_distances_ed = {}\n",
    "\n",
    "    for author, distance in sum_distances.items():\n",
    "        avg_distance = distance/len(clown_names)\n",
    "        avg_distances_ed[author] = avg_distance\n",
    "        \n",
    "        \n",
    "    # Die durchschnittliche Distanz für jede Metrik wird berechnet\n",
    "    avg_distances = {}\n",
    "\n",
    "    for author in avg_distances_cb.keys():\n",
    "        avg_distances[author] = []\n",
    "        avg_distances[author].append(avg_distances_cb[author])\n",
    "        avg_distances[author].append(avg_distances_cs[author])\n",
    "        avg_distances[author].append(avg_distances_ed[author])\n",
    "    \n",
    "        \n",
    "    # Ausgabe in Form eines DF\n",
    "    distances_df = pd.DataFrame(data=avg_distances)\n",
    "    distances_df.index = metrics_names\n",
    "    return distances_df"
   ]
  },
  {
   "cell_type": "code",
   "execution_count": 27,
   "metadata": {},
   "outputs": [
    {
     "data": {
      "text/html": [
       "<div>\n",
       "<style scoped>\n",
       "    .dataframe tbody tr th:only-of-type {\n",
       "        vertical-align: middle;\n",
       "    }\n",
       "\n",
       "    .dataframe tbody tr th {\n",
       "        vertical-align: top;\n",
       "    }\n",
       "\n",
       "    .dataframe thead th {\n",
       "        text-align: right;\n",
       "    }\n",
       "</style>\n",
       "<table border=\"1\" class=\"dataframe\">\n",
       "  <thead>\n",
       "    <tr style=\"text-align: right;\">\n",
       "      <th></th>\n",
       "      <th>Alfred_Halm</th>\n",
       "      <th>Ernst_Clefeld</th>\n",
       "      <th>Franz_Kreidemann</th>\n",
       "      <th>Hanns_Hannsen</th>\n",
       "      <th>Max_Martersteig</th>\n",
       "      <th>Otto_Kienscherf</th>\n",
       "      <th>Richard_Treitel</th>\n",
       "    </tr>\n",
       "  </thead>\n",
       "  <tbody>\n",
       "    <tr>\n",
       "      <th>cityblock</th>\n",
       "      <td>55.285150</td>\n",
       "      <td>61.163589</td>\n",
       "      <td>58.854552</td>\n",
       "      <td>58.187146</td>\n",
       "      <td>61.206541</td>\n",
       "      <td>52.659890</td>\n",
       "      <td>58.146782</td>\n",
       "    </tr>\n",
       "    <tr>\n",
       "      <th>cosine</th>\n",
       "      <td>0.857761</td>\n",
       "      <td>0.942606</td>\n",
       "      <td>0.957902</td>\n",
       "      <td>0.910097</td>\n",
       "      <td>1.084253</td>\n",
       "      <td>0.952765</td>\n",
       "      <td>1.003292</td>\n",
       "    </tr>\n",
       "    <tr>\n",
       "      <th>euclidean</th>\n",
       "      <td>10.788628</td>\n",
       "      <td>11.561428</td>\n",
       "      <td>11.147931</td>\n",
       "      <td>11.134282</td>\n",
       "      <td>11.508061</td>\n",
       "      <td>10.218258</td>\n",
       "      <td>11.219693</td>\n",
       "    </tr>\n",
       "  </tbody>\n",
       "</table>\n",
       "</div>"
      ],
      "text/plain": [
       "           Alfred_Halm  Ernst_Clefeld  Franz_Kreidemann  Hanns_Hannsen  \\\n",
       "cityblock    55.285150      61.163589         58.854552      58.187146   \n",
       "cosine        0.857761       0.942606          0.957902       0.910097   \n",
       "euclidean    10.788628      11.561428         11.147931      11.134282   \n",
       "\n",
       "           Max_Martersteig  Otto_Kienscherf  Richard_Treitel  \n",
       "cityblock        61.206541        52.659890        58.146782  \n",
       "cosine            1.084253         0.952765         1.003292  \n",
       "euclidean        11.508061        10.218258        11.219693  "
      ]
     },
     "execution_count": 27,
     "metadata": {},
     "output_type": "execute_result"
    }
   ],
   "source": [
    "calculate_avg_distances(vocab_50)"
   ]
  },
  {
   "cell_type": "code",
   "execution_count": 28,
   "metadata": {},
   "outputs": [
    {
     "data": {
      "text/html": [
       "<div>\n",
       "<style scoped>\n",
       "    .dataframe tbody tr th:only-of-type {\n",
       "        vertical-align: middle;\n",
       "    }\n",
       "\n",
       "    .dataframe tbody tr th {\n",
       "        vertical-align: top;\n",
       "    }\n",
       "\n",
       "    .dataframe thead th {\n",
       "        text-align: right;\n",
       "    }\n",
       "</style>\n",
       "<table border=\"1\" class=\"dataframe\">\n",
       "  <thead>\n",
       "    <tr style=\"text-align: right;\">\n",
       "      <th></th>\n",
       "      <th>Alfred_Halm</th>\n",
       "      <th>Ernst_Clefeld</th>\n",
       "      <th>Franz_Kreidemann</th>\n",
       "      <th>Hanns_Hannsen</th>\n",
       "      <th>Max_Martersteig</th>\n",
       "      <th>Otto_Kienscherf</th>\n",
       "      <th>Richard_Treitel</th>\n",
       "    </tr>\n",
       "  </thead>\n",
       "  <tbody>\n",
       "    <tr>\n",
       "      <th>cityblock</th>\n",
       "      <td>99.463236</td>\n",
       "      <td>110.402730</td>\n",
       "      <td>98.565690</td>\n",
       "      <td>103.020016</td>\n",
       "      <td>103.796473</td>\n",
       "      <td>93.953258</td>\n",
       "      <td>104.201026</td>\n",
       "    </tr>\n",
       "    <tr>\n",
       "      <th>cosine</th>\n",
       "      <td>0.896989</td>\n",
       "      <td>0.990478</td>\n",
       "      <td>0.980553</td>\n",
       "      <td>0.961032</td>\n",
       "      <td>1.054432</td>\n",
       "      <td>0.943190</td>\n",
       "      <td>0.992762</td>\n",
       "    </tr>\n",
       "    <tr>\n",
       "      <th>euclidean</th>\n",
       "      <td>14.483628</td>\n",
       "      <td>15.799202</td>\n",
       "      <td>14.296343</td>\n",
       "      <td>15.070170</td>\n",
       "      <td>14.680472</td>\n",
       "      <td>13.801650</td>\n",
       "      <td>15.153937</td>\n",
       "    </tr>\n",
       "  </tbody>\n",
       "</table>\n",
       "</div>"
      ],
      "text/plain": [
       "           Alfred_Halm  Ernst_Clefeld  Franz_Kreidemann  Hanns_Hannsen  \\\n",
       "cityblock    99.463236     110.402730         98.565690     103.020016   \n",
       "cosine        0.896989       0.990478          0.980553       0.961032   \n",
       "euclidean    14.483628      15.799202         14.296343      15.070170   \n",
       "\n",
       "           Max_Martersteig  Otto_Kienscherf  Richard_Treitel  \n",
       "cityblock       103.796473        93.953258       104.201026  \n",
       "cosine            1.054432         0.943190         0.992762  \n",
       "euclidean        14.680472        13.801650        15.153937  "
      ]
     },
     "execution_count": 28,
     "metadata": {},
     "output_type": "execute_result"
    }
   ],
   "source": [
    "calculate_avg_distances(vocab_100)"
   ]
  },
  {
   "cell_type": "markdown",
   "metadata": {},
   "source": [
    "**Anmerkung:** Ein kleineres Vokabular führt zu insgesamt niedrigeren Distanzen, aber damit nicht automatisch besseren Ergebnissen."
   ]
  },
  {
   "cell_type": "markdown",
   "metadata": {},
   "source": [
    "**Ergebnisse der durchschnittlichen Distanzen für die 7 wahrscheinlichsten Autoren**:\n",
    "\n",
    "Die Vokabulargröße scheint auf die durchschnittlichen Distanzen aller Chunks keinen besonders großen Einfluss zu haben. Cityblock tendiert immer zu Martersteig und Kienscherf, Kosinus zu Halm und Kienscherf, euklidische Distanz zu Martersteig und Kienscherf. "
   ]
  },
  {
   "cell_type": "markdown",
   "metadata": {},
   "source": [
    "**Vorhersage für die drei wahrscheinlichsten Kandidaten**"
   ]
  },
  {
   "cell_type": "markdown",
   "metadata": {},
   "source": [
    "Von den sieben übrigen Kandidaten schaffen es damit drei in die noch engere Auswahl. Im Folgenden werden nur Texte dieser 3 Autoren mit dem Clown verglichen."
   ]
  },
  {
   "cell_type": "code",
   "execution_count": 29,
   "metadata": {},
   "outputs": [],
   "source": [
    "candidates = [\"Otto_Kienscherf\", \"Max_Martersteig\", \"Alfred_Halm\"]"
   ]
  },
  {
   "cell_type": "code",
   "execution_count": 30,
   "metadata": {},
   "outputs": [],
   "source": [
    "reference_reduced = {}\n",
    "for candidate in candidates: \n",
    "    reference_reduced[candidate] = reference_shortened[candidate]\n",
    "\n",
    "documents_reduced = [\" \".join(text) for text in reference_reduced.values()]"
   ]
  },
  {
   "cell_type": "code",
   "execution_count": 31,
   "metadata": {},
   "outputs": [
    {
     "data": {
      "text/html": [
       "<div>\n",
       "<style scoped>\n",
       "    .dataframe tbody tr th:only-of-type {\n",
       "        vertical-align: middle;\n",
       "    }\n",
       "\n",
       "    .dataframe tbody tr th {\n",
       "        vertical-align: top;\n",
       "    }\n",
       "\n",
       "    .dataframe thead th {\n",
       "        text-align: right;\n",
       "    }\n",
       "</style>\n",
       "<table border=\"1\" class=\"dataframe\">\n",
       "  <thead>\n",
       "    <tr style=\"text-align: right;\">\n",
       "      <th></th>\n",
       "      <th>cityblock</th>\n",
       "      <th>cosine</th>\n",
       "      <th>euclidean</th>\n",
       "    </tr>\n",
       "  </thead>\n",
       "  <tbody>\n",
       "    <tr>\n",
       "      <th>C1</th>\n",
       "      <td>Alfred_Halm</td>\n",
       "      <td>Max_Martersteig</td>\n",
       "      <td>Max_Martersteig</td>\n",
       "    </tr>\n",
       "    <tr>\n",
       "      <th>C2</th>\n",
       "      <td>Max_Martersteig</td>\n",
       "      <td>Max_Martersteig</td>\n",
       "      <td>Max_Martersteig</td>\n",
       "    </tr>\n",
       "    <tr>\n",
       "      <th>C3</th>\n",
       "      <td>Otto_Kienscherf</td>\n",
       "      <td>Otto_Kienscherf</td>\n",
       "      <td>Otto_Kienscherf</td>\n",
       "    </tr>\n",
       "    <tr>\n",
       "      <th>C4</th>\n",
       "      <td>Max_Martersteig</td>\n",
       "      <td>Max_Martersteig</td>\n",
       "      <td>Max_Martersteig</td>\n",
       "    </tr>\n",
       "    <tr>\n",
       "      <th>C5</th>\n",
       "      <td>Alfred_Halm</td>\n",
       "      <td>Otto_Kienscherf</td>\n",
       "      <td>Otto_Kienscherf</td>\n",
       "    </tr>\n",
       "    <tr>\n",
       "      <th>C6</th>\n",
       "      <td>Alfred_Halm</td>\n",
       "      <td>Otto_Kienscherf</td>\n",
       "      <td>Otto_Kienscherf</td>\n",
       "    </tr>\n",
       "    <tr>\n",
       "      <th>C7</th>\n",
       "      <td>Otto_Kienscherf</td>\n",
       "      <td>Otto_Kienscherf</td>\n",
       "      <td>Otto_Kienscherf</td>\n",
       "    </tr>\n",
       "    <tr>\n",
       "      <th>C8</th>\n",
       "      <td>Otto_Kienscherf</td>\n",
       "      <td>Otto_Kienscherf</td>\n",
       "      <td>Otto_Kienscherf</td>\n",
       "    </tr>\n",
       "    <tr>\n",
       "      <th>C9</th>\n",
       "      <td>Otto_Kienscherf</td>\n",
       "      <td>Otto_Kienscherf</td>\n",
       "      <td>Otto_Kienscherf</td>\n",
       "    </tr>\n",
       "  </tbody>\n",
       "</table>\n",
       "</div>"
      ],
      "text/plain": [
       "          cityblock           cosine        euclidean\n",
       "C1      Alfred_Halm  Max_Martersteig  Max_Martersteig\n",
       "C2  Max_Martersteig  Max_Martersteig  Max_Martersteig\n",
       "C3  Otto_Kienscherf  Otto_Kienscherf  Otto_Kienscherf\n",
       "C4  Max_Martersteig  Max_Martersteig  Max_Martersteig\n",
       "C5      Alfred_Halm  Otto_Kienscherf  Otto_Kienscherf\n",
       "C6      Alfred_Halm  Otto_Kienscherf  Otto_Kienscherf\n",
       "C7  Otto_Kienscherf  Otto_Kienscherf  Otto_Kienscherf\n",
       "C8  Otto_Kienscherf  Otto_Kienscherf  Otto_Kienscherf\n",
       "C9  Otto_Kienscherf  Otto_Kienscherf  Otto_Kienscherf"
      ]
     },
     "execution_count": 31,
     "metadata": {},
     "output_type": "execute_result"
    }
   ],
   "source": [
    "delta_predictions(documents_reduced, clown_chunks, candidates, vocab_75, clown_names)"
   ]
  },
  {
   "cell_type": "markdown",
   "metadata": {},
   "source": [
    "Halm wird nur sehr wenig vorhergesagt und ist damit wohl auch eher auszuschließen. Es bleiben **Martersteig** und **Kienscherf** Kandidaten."
   ]
  },
  {
   "cell_type": "markdown",
   "metadata": {},
   "source": [
    "**Vorhersagen für die zwei wahrscheinlichsten Kandidaten mit größeren Text-Chunks**"
   ]
  },
  {
   "cell_type": "markdown",
   "metadata": {},
   "source": [
    "Von den jetzt übrigen Kandidaten sollen größere Chunks zur Überprüfung verwendet werden, um zu sehen, ob sich hier noch jemand als wahrscheinlicher als der andere herausstellt. \n",
    "\n",
    "Welche Autoren jetzt genau berücksichtigt werden und wie groß die Chunks sind, kann angepasst werden. Eine Größe von 3700 Tokens ermöglicht immerhin die Bildung von drei Chunks pro Kandidat. Nimmt man einen zusätzlichen Autor, der sich bereits zuvor als sehr unwahrscheinlich herausgestellt hat, in die Liste der Kandidaten auf (es wurde Egon Friedell verwendet, da von ihm ausreichend Tokens vorhanden sind), kann so auch überprüft werden, welche Vokabulargröße vielleicht dazu tendiert, etwas Falsches vorherzusagen, oder für welchen Clown-Chunk die Vorhersage nur schlecht funktioniert. "
   ]
  },
  {
   "cell_type": "markdown",
   "metadata": {},
   "source": [
    "**Splitten der eingegrenzten Texte und des Clown-Corpus in Chunks**\n",
    "\n",
    "Von den Referenztexten der zwei übrig gebliebenen Kandidaten werden jeweils *chunk_size* Tokens genommen, wobei sich *chunk_size* 4600 als am verlässlichsten erweist.\n",
    "\n",
    "Im Unterschied zu den Chunks mit einer Länge von 2000, die vorher vom Clown zuvor gebildet wurden (weshalb auch nicht die Funktion von oben verwendet wird), werden an dieser Stelle nicht jeweils die ersten *chunk_size* Tokens von jedem der 3 Clown-Texte verwendet, sondern auch von allen Texten des Clowns werden alle Tokens werden in eine Liste gegeben, aus welcher Chunks in der Größe *chunk_size* gebildet werden (ggf. mit Text-Überschneidungen), um auf diese Weise mehr Chunks zu erhalten."
   ]
  },
  {
   "cell_type": "code",
   "execution_count": 32,
   "metadata": {},
   "outputs": [
    {
     "name": "stdout",
     "output_type": "stream",
     "text": [
      "Otto_Kienscherf_1: 4600 Tokens\n",
      "Otto_Kienscherf_2: 4600 Tokens\n",
      "Max_Martersteig_1: 4600 Tokens\n",
      "Max_Martersteig_2: 4600 Tokens\n",
      "Egon_Friedell_1: 4600 Tokens\n",
      "Egon_Friedell_2: 4600 Tokens\n"
     ]
    }
   ],
   "source": [
    "chunk_size = 4600\n",
    "number_of_chunks = 2\n",
    "\n",
    "#candidates = [\"Otto_Kienscherf\", \"Max_Martersteig\"]\n",
    "candidates = [\"Otto_Kienscherf\", \"Max_Martersteig\", \"Egon_Friedell\"]\n",
    "\n",
    "candidates_chunks = []\n",
    "chunk_names = []\n",
    "\n",
    "for candidate in candidates: \n",
    "    \n",
    "    chunk_start = 0\n",
    "    chunk_end = chunk_size\n",
    "    \n",
    "    while chunk_end <= chunk_size * number_of_chunks:\n",
    "        text = reference_corpus[candidate][chunk_start:chunk_end]\n",
    "        candidates_chunks.append(text)\n",
    "        chunk_names.append(f\"{candidate}_{int(chunk_end/chunk_size)}\")\n",
    "        chunk_start += chunk_size\n",
    "        chunk_end += chunk_size\n",
    "    \n",
    "for candidate, tokens in zip(chunk_names, candidates_chunks):\n",
    "    print(f\"{candidate}: {len(tokens)} Tokens\")\n",
    "    \n",
    "candidates_chunks = [\" \".join(chunk) for chunk in candidates_chunks]  "
   ]
  },
  {
   "cell_type": "code",
   "execution_count": 33,
   "metadata": {},
   "outputs": [
    {
     "name": "stdout",
     "output_type": "stream",
     "text": [
      "Insgesamt können die Texte des anonymen Autors in 4 Chunks mit einer Länge von 4600 Tokens gesplittet werden.\n",
      "['C_big_1', 'C_big_2', 'C_big_3', 'C_big_4']\n"
     ]
    }
   ],
   "source": [
    "# Alle Tokens des Clowns werden in eine Liste gegeben, wo sie weiter gesplittet werden\n",
    "clown_all_texts = [word for text in corpus_clown.values() for word in text]\n",
    "\n",
    "clown_big_chunks = []\n",
    "big_chunks_names = []\n",
    "\n",
    "chunk_start = 0\n",
    "chunk_end = chunk_size\n",
    "\n",
    "while chunk_end <= len(clown_all_texts):\n",
    "    if len(clown_all_texts[chunk_start:chunk_end]) == chunk_size: # solange ein Chunk nicht kürzer als 3700 wird:\n",
    "        clown_big_chunks.append(clown_all_texts[chunk_start:chunk_end]) # werden die Tokens 0 bis 3699 genommen\n",
    "        big_chunks_names.append(f\"C_big_{int(chunk_end/chunk_size)}\")\n",
    "        chunk_start += chunk_size # danach werden die Tokens erhöht auf 3700 bis 7399 etc.\n",
    "        chunk_end += chunk_size\n",
    "\n",
    "clown_big_chunks = [\" \".join(chunk) for chunk in clown_big_chunks]        \n",
    "print(f\"Insgesamt können die Texte des anonymen Autors in {len(clown_big_chunks)} Chunks mit einer Länge von {chunk_size} Tokens gesplittet werden.\")\n",
    "print(big_chunks_names)"
   ]
  },
  {
   "cell_type": "markdown",
   "metadata": {},
   "source": [
    "**Vorhersage**"
   ]
  },
  {
   "cell_type": "code",
   "execution_count": 34,
   "metadata": {},
   "outputs": [
    {
     "data": {
      "text/html": [
       "<div>\n",
       "<style scoped>\n",
       "    .dataframe tbody tr th:only-of-type {\n",
       "        vertical-align: middle;\n",
       "    }\n",
       "\n",
       "    .dataframe tbody tr th {\n",
       "        vertical-align: top;\n",
       "    }\n",
       "\n",
       "    .dataframe thead th {\n",
       "        text-align: right;\n",
       "    }\n",
       "</style>\n",
       "<table border=\"1\" class=\"dataframe\">\n",
       "  <thead>\n",
       "    <tr style=\"text-align: right;\">\n",
       "      <th></th>\n",
       "      <th>cityblock</th>\n",
       "      <th>cosine</th>\n",
       "      <th>euclidean</th>\n",
       "    </tr>\n",
       "  </thead>\n",
       "  <tbody>\n",
       "    <tr>\n",
       "      <th>C_big_1</th>\n",
       "      <td>Otto_Kienscherf_2</td>\n",
       "      <td>Otto_Kienscherf_2</td>\n",
       "      <td>Otto_Kienscherf_2</td>\n",
       "    </tr>\n",
       "    <tr>\n",
       "      <th>C_big_2</th>\n",
       "      <td>Otto_Kienscherf_1</td>\n",
       "      <td>Otto_Kienscherf_1</td>\n",
       "      <td>Otto_Kienscherf_1</td>\n",
       "    </tr>\n",
       "    <tr>\n",
       "      <th>C_big_3</th>\n",
       "      <td>Otto_Kienscherf_1</td>\n",
       "      <td>Otto_Kienscherf_1</td>\n",
       "      <td>Otto_Kienscherf_1</td>\n",
       "    </tr>\n",
       "    <tr>\n",
       "      <th>C_big_4</th>\n",
       "      <td>Otto_Kienscherf_1</td>\n",
       "      <td>Otto_Kienscherf_1</td>\n",
       "      <td>Otto_Kienscherf_1</td>\n",
       "    </tr>\n",
       "  </tbody>\n",
       "</table>\n",
       "</div>"
      ],
      "text/plain": [
       "                 cityblock             cosine          euclidean\n",
       "C_big_1  Otto_Kienscherf_2  Otto_Kienscherf_2  Otto_Kienscherf_2\n",
       "C_big_2  Otto_Kienscherf_1  Otto_Kienscherf_1  Otto_Kienscherf_1\n",
       "C_big_3  Otto_Kienscherf_1  Otto_Kienscherf_1  Otto_Kienscherf_1\n",
       "C_big_4  Otto_Kienscherf_1  Otto_Kienscherf_1  Otto_Kienscherf_1"
      ]
     },
     "execution_count": 34,
     "metadata": {},
     "output_type": "execute_result"
    }
   ],
   "source": [
    "delta_predictions_reduced = delta_predictions(candidates_chunks, clown_big_chunks, chunk_names, vocab_75, big_chunks_names)\n",
    "delta_predictions_reduced"
   ]
  },
  {
   "cell_type": "markdown",
   "metadata": {},
   "source": [
    "**Ergebnisse der Vorhersage für die zwei wahrscheinlichsten Kandidaten**\n",
    "\n",
    "Für den ersten Chunk bei einer Chunk-Größe von 5000 bzw. bei den ersten beiden Chunks des Clowns bei kleinerer Chunk-Größe  wird, wenn Friedell in die Liste der Kandidaten aufgenommen wird, oft Friedell vorhergesagt. Dieser erste Chunk ist daher anscheinend nicht unbedingt repräsentativ für den Clown und wird bei der Auswertung weniger berücksichtigt. \n",
    "\n",
    "**3 Chunks pro Kandidat mit je 3700 Tokens:**\n",
    "\n",
    "Überhaupt keine eindeutigen Ergebnisse, abhängig von der Vokabulargröße verändern sich die Vorhersagen, für dieselben Chunks wird von den verschiedenen Metriken oft etwas anders vorhergesagt. (Für die Chunks C_big_3 bis C_big_5 sind immerhin Kienscherf und Martersteig konsistent und der sehr unwahrscheinliche Friedell wird nicht vorhergesagt.)\n",
    "\n",
    "**2 Chunks pro Kandidat mit je 5550 Tokens:**\n",
    "\n",
    "Nimmt man Friedell zur Überprüfung in die Liste der Kandidaten auf, wird dieser fast immer für den ersten Chunk vorhergesagt. Je höher hier die Vokabulargröße ist, desto eindeutiger wird Kienscherf vorhergesagt. Nimmt man Friedell aus der Liste der Kandidaten, wird für den ersten Chunk Martersteig vorhergesagt. Angesichts der Tatsache, dass ansonsten Friedell vorhergesagt wird, erscheint dies auf jeden Fall weniger verlässlich als die Vorhersage von Kienscherf in den anderen Chunks, die konsistent ist. \n",
    "\n",
    "**2 Chunks pro Kandidat mit 4600 Tokens:**\n",
    "\n",
    "Als \"Kompromiss\", falls 3700 zu kleine Chunks oder 5500 zu große Chunks ergibt. Die Vorhersage bei dieser Größe erweist sich tatsächlich am konstantesten und geht eindeutig in Richtung Kienscherf, der zumindest Delta zufolge der Clown zu sein scheint. Andererseits sind die potenziellen Kandidaten bereits sehr reduziert und es ist nicht auszuschließen, dass der richtige z.B. bereits aussortiert wurde, weil zu wenig Tokens vorliegen, oder von Beginn an nicht als Kandidat in Erwägung gezogen wurde. Friedell wird hier, wenn er zur Überprüfung in die Liste aufgenommen wird, außer bei einer Vokabulargröße von 100 für den ersten Chunk auch nicht vorausgesagt.\n",
    "\n",
    "Auffällig hier ist, dass hauptsächlich die größte Ähnlichkeit zum ersten Textchunk von Kienscherf vorhergesagt wird. Man muss an dieser Stelle jedoch berücksichtigen, dass sich in der *Schaubühne* aus dem Zeitraum, in dem auch der \"Clown\" geschrieben hat, nur ein einziger Text von Kienscherf finden ließ, der ca. 2000 Tokens umfasst und Teil dieses ersten Chunks ist. Ebenfalls Teil des ersten Chunks sind die Tokens eines extern von der Schaubühne publizierten Texts aus dem Jahr 1902. Der zweite Textchunk setzt sich aus späteren externen Texten, um das Jahr 1930 herum und damit 20 Jahre nach den \"Clown\"-Texten, zusammen (da dies die einzigen Referenztexte waren, die sich von Kienscherf finden ließen). Möglicherweise kann man hier einfach Veränderungen in Kienscherfs Stil über diese zwei Jahrzehnte hinweg beobachten, sodass die geringere Nähe zu den früheren Texten ermittelt wird."
   ]
  },
  {
   "cell_type": "markdown",
   "metadata": {},
   "source": [
    "### 3.2.2 Burrows Delta mit N-Grammen\n",
    "\n",
    "Damit die Texte aller Autorenkandidaten in die Untersuchung miteinbezogen werden können, werden im Folgenden statt Tokens N-Gramme aus Zeichen verwendet. Es werden für jeden Text genau so viele N-Gramme verwendet, wie sich aus dem kürzesten der Referenztexte bilden lassen. Das Markup wird entfernt, die Wörter in den Texten werden aber nicht lemmatisiert. J/I und ß/ss werden dennoch vereinheitlicht, weil diese Entscheidungen wohl genauso beim Herausgeber liegen können wie beim Autor. "
   ]
  },
  {
   "cell_type": "markdown",
   "metadata": {},
   "source": [
    "**Funktion zum Erzeugen der N-Gramme**\n",
    "\n",
    "Folgende Funktion enthält zuerst das Preprocessing, dem auch die Tokens unterlaufen sind (mit dem Unterschied, dass jetzt auch die Leerzeichen entfernt werden); danach wird die Anzahl an N-Grammen, die maximal erzeugt werden können, damit für alle Texte gleich viele N-Gramme vorhanden sind, ermittelt; im letzten Schritt werden schließlich dieser Anzahl entsprechend viele N-Gramme erzeugt. Der Parameter *n* gibt an, wie viele Zeichen die N-Gramme enthalten sollen."
   ]
  },
  {
   "cell_type": "code",
   "execution_count": 35,
   "metadata": {},
   "outputs": [],
   "source": [
    "def create_ngrams(corpus, n):\n",
    "\n",
    "    texts = corpus.copy()\n",
    "    characters = {}\n",
    "    ngrams = {}\n",
    "\n",
    "    for text in texts:\n",
    "\n",
    "        # Ersetzen der Js durch Is im Fraktur-Digitalisat\n",
    "        for j, i in j_to_i.items():\n",
    "            texts[text] = re.sub(j, i, texts[text])\n",
    "\n",
    "        # Entfernen der Tags und Standardisierung\n",
    "        texts[text] = re.sub(r'<TITLE>.*</TITLE>', '', texts[text], count=0) # Entfernen der Titel\n",
    "        texts[text] = re.sub(r'<TITLEPART.*</TITLEPART>', '', texts[text], count=0)\n",
    "        texts[text] = re.sub(r'\\n<lb break=\"no\"/>', '', texts[text]) # Zusammenfügen abgeteilter Wörter\n",
    "        texts[text] = re.sub(r'<lb/>', '', texts[text]) # Entfernen der Line-Beginnings\n",
    "        texts[text] = re.sub(r'<fw.*</fw>', '', texts[text]) # Entfernen der Seitenzahlen\n",
    "        texts[text] = re.sub(r'ß', 'ss', texts[text]) # Entfernen aller scharfen ß\n",
    "        texts[text] = re.sub(r'<.*?>', '', texts[text]) # Entfernen aller übrigen Tags\n",
    "        texts[text] = re.sub(r'\\n', '', texts[text]) # Entfernen der neuen Zeilen\n",
    "        texts[text] = re.sub(r' ', '', texts[text]) # Entfernen der Leerzeichen\n",
    "        corpus[text] = re.sub(r'giebt', 'gibt', corpus[text]) # Ersetzen von giebt mit gibt für Vereinheitlichung\n",
    "\n",
    "        #Einfügen der einzelnen Buchstaben der Texte in eine Liste\n",
    "        texts[text] = [char.lower() for token in texts[text] for char in token if char not in \"./\\_*(),;:!“„?—‘...——.–=§\"]\n",
    "        characters[text] = texts[text]\n",
    "\n",
    "    # Den kürzesten Text herausfinden und damit, wie viele N-Grams pro Text erzeugt werden sollen\n",
    "    max_chars = 0 # die Variable wird zuerst auf 0 gesetzt\n",
    "    for text in characters.values():\n",
    "        if max_chars == 0: # wenn über den ersten Text iteriert wird, wird max_chars auf dessen Zeichenlänge gesetzt\n",
    "            max_chars = len(text)        \n",
    "        else:\n",
    "            if max_chars > len(text): # wenn später über einen kürzeren Text iteriert wird ...\n",
    "                max_chars = len(text) # wird max_chars entsprechend angepasst\n",
    "\n",
    "    # Erzeugen der N-Gramme\n",
    "    for author, text in characters.items():\n",
    "\n",
    "        beginning = 0\n",
    "        end = n\n",
    "        ngram_list = []\n",
    "\n",
    "        while end <= max_chars: # Es wird iteriert, solange das Ende eines N-Gramms noch vor Textende ist\n",
    "            ngram = \"\".join(text[beginning:end]) # Die Elemente der Liste werden zu N-Grammen zusammengefügt\n",
    "            ngram_list.append(\"\".join(text[beginning:end])) # Die N-Gramme werden in einer Liste gespeichert\n",
    "            beginning += n # das nächste N-Gramm beginnt z.B. 3 Zeichen später\n",
    "            end += n\n",
    "\n",
    "        ngrams[author] = ngram_list # dem Dictionary mit N-Grammen wird der Name des Autors sowie die N-Gramm-Liste angehängt\n",
    "        \n",
    "    return ngrams"
   ]
  },
  {
   "cell_type": "markdown",
   "metadata": {},
   "source": [
    "**Erstellen von 3- und 4-Grammen für Clown und Kandidaten**"
   ]
  },
  {
   "cell_type": "code",
   "execution_count": 36,
   "metadata": {},
   "outputs": [],
   "source": [
    "three_grams_reference = create_ngrams(reference, 3)\n",
    "three_grams_clown = create_ngrams(clown, 3)\n",
    "\n",
    "four_grams_reference = create_ngrams(reference, 4)\n",
    "four_grams_clown = create_ngrams(clown, 4)"
   ]
  },
  {
   "cell_type": "code",
   "execution_count": 37,
   "metadata": {},
   "outputs": [
    {
     "data": {
      "text/plain": [
       "['wen', 'nvo', 'nir', 'gen', 'dei', 'ner', 'sta', 'dtb', 'eha', 'upt']"
      ]
     },
     "execution_count": 37,
     "metadata": {},
     "output_type": "execute_result"
    }
   ],
   "source": [
    "three_grams_reference[\"Adolf_Winds\"][:10]"
   ]
  },
  {
   "cell_type": "markdown",
   "metadata": {},
   "source": [
    "**Vorhersage mit den N-Grammen**\n",
    "\n",
    "Die Funktion umfasst dieselben Schritte, die auch die Tokens für die Vorhersage mit Delta unterlaufen (zuerst Umwandlung der Dictionaries in Listen, vektorisieren, normalisieren und skalieren, Anwendung von Delta) und wird daher nicht gesondert beschrieben. Neben den jeweigen Dicitionaries mit den N-Grammen nimmt die Funktion auch die Parameter max_features (wie viele N-Gramme der Vektorizer berücksichtigen soll) und metric (cityblock, euclidean, cosine)."
   ]
  },
  {
   "cell_type": "code",
   "execution_count": 38,
   "metadata": {},
   "outputs": [],
   "source": [
    "def predict_ngrams(ngrams_reference, ngrams_clown, max_features, metric):\n",
    "    \n",
    "    # Umwandlung der Dicitionaries in Listen\n",
    "    authors_ngrams = [author for author in ngrams_reference.keys()]\n",
    "    reference_ngrams = [\" \".join(text) for text in ngrams_reference.values()]\n",
    "    clown_texts = [author for author in ngrams_clown.keys()]\n",
    "    ngrams_clown = [\" \".join(text) for text in ngrams_clown.values()]\n",
    "    \n",
    "    # Vektorisieren und Normalisieren\n",
    "    vectorizer = CountVectorizer(max_features=max_features)                               \n",
    "    v_ngrams = vectorizer.fit_transform(reference_ngrams).toarray()\n",
    "    ngrams_preprocessed = preprocessing.normalize(v_ngrams.astype(float), norm='l1')\n",
    "    scaler = preprocessing.StandardScaler()\n",
    "    s_ngrams = scaler.fit_transform(ngrams_preprocessed)\n",
    "\n",
    "    # Skalisieren\n",
    "    v_ngrams_clown = vectorizer.transform(ngrams_clown).toarray()\n",
    "    ngrams_clown_preprocessed = preprocessing.normalize(v_ngrams_clown.astype(float), norm='l1')\n",
    "    s_ngrams_clown = scaler.transform(ngrams_clown_preprocessed)\n",
    "    \n",
    "    # Vorhersage mit Delta\n",
    "    delta = Delta()                            \n",
    "    delta.fit(s_ngrams, authors_ngrams)\n",
    "    preds = delta.predict(s_ngrams_clown, metric=metric)\n",
    "    \n",
    "    for clown_text, pred in zip(clown_texts, preds):\n",
    "        print(f'{clown_text} mit {metric} und {max_features} Features: {pred}')"
   ]
  },
  {
   "cell_type": "code",
   "execution_count": 39,
   "metadata": {},
   "outputs": [
    {
     "name": "stdout",
     "output_type": "stream",
     "text": [
      "Clown_4_1_Menschenhandel.txt mit cityblock und 75 Features: Richard_Treitel\n",
      "Clown_4_2_Theatertrust.txt mit cityblock und 75 Features: Max_Pategg\n",
      "Clown_3_1_Moderne_Sklaven.txt mit cityblock und 75 Features: Richard_Treitel\n"
     ]
    }
   ],
   "source": [
    "predict_ngrams(three_grams_reference, three_grams_clown, 75, \"cityblock\")"
   ]
  },
  {
   "cell_type": "code",
   "execution_count": 40,
   "metadata": {},
   "outputs": [
    {
     "name": "stdout",
     "output_type": "stream",
     "text": [
      "Clown_4_1_Menschenhandel.txt mit cosine und 50 Features: Ernst_Clefeld\n",
      "Clown_4_2_Theatertrust.txt mit cosine und 50 Features: Max_Pategg\n",
      "Clown_3_1_Moderne_Sklaven.txt mit cosine und 50 Features: Hanns_Hannsen\n"
     ]
    }
   ],
   "source": [
    "predict_ngrams(four_grams_reference, four_grams_clown, 50, \"cosine\")"
   ]
  },
  {
   "cell_type": "markdown",
   "metadata": {},
   "source": [
    "Cityblock hat eine Tendenz zu Richard Treitel. Die oben als sich wahrscheinlich herausgestellten Kandidaten Kienscherf und Martersteig werden mit kaum einer Kombination an Parametern durch N-Gramme vorhergesagt. Die Ergebnisse scheinen nicht besonders verlässlich und Delta mit N-Grammen daher als keine geeignete Methode für die vorliegenden Korpora. In dem unwahrscheinlichen Fall, dass Oscar Sauer, für den gerade einmal 242 Tokens vorliegen, der \"Clown\" ist, gibt es also leider keine Möglichkeit, dies zu beweisen. Wie erwähnt ist aber eher nicht davon auszugehen, dass jemand, der, zumindest soweit sich das ca. 110 Jahre später, nach umfangreicher Recherche, feststellen lässt, in seinem ganzen Leben keinen Text öffentlich unter Klarnamen publiziert hat, unter Pseudonym drei Serien von Arikeln für die *Schaubühne* geschreiben hat. Die beiden kurzen Beiträge von Oscar Sauer, die sich in der *Schaubühne* finden lassen und zusammen die 242 Tokens ausmachen, sind kurze Statements zu den Themen \"Schauspieleraustausch\" und \"Schauspielerübernahme\", zu denen mehrere Schauspieler\\*innen ihre Meinung in einem kurzen Absatz mitteilten."
   ]
  },
  {
   "cell_type": "markdown",
   "metadata": {},
   "source": [
    "## 3.3 PCA und HAC\n",
    "\n",
    "Als weiterer Ansatz, um den Autor hinter den \"Clown\"-Texten zu identifizieren, können Principal Component Analysis (PCA) und Hierarchical Agglomerative Clustering (HAC) verwendet werden.\n",
    "\n",
    "\n",
    "### 3.3.1 Vorbereiten der Daten"
   ]
  },
  {
   "cell_type": "markdown",
   "metadata": {},
   "source": [
    "Für PCA und HAC sollen wieder Chunks von je ca. 2000 Tokens verwendet werden. Sind von einem Autor mehr Tokens verfügbar, können mit dem Parameter max_amount_of_chunks auch mehr Chunks verwendet werden. Sind nicht genug Tokens dafür vorhanden, werden kleinere Chunks gebildet, diese sind aber mindestens 1800 Tokens lang (min_chunk_size). Die Chunks sind bevorzugt 2000 Tokens (max_chunk_size) lang.  "
   ]
  },
  {
   "cell_type": "code",
   "execution_count": 41,
   "metadata": {},
   "outputs": [
    {
     "name": "stdout",
     "output_type": "stream",
     "text": [
      "Winds1: 2000\n",
      "Winds2: 2000\n",
      "Boree1: 2000\n",
      "Auerbach1: 2000\n",
      "Halm1: 1929\n",
      "Friedell1: 2000\n",
      "Friedell2: 2000\n",
      "Friedell3: 2000\n",
      "Clefeld1: 2000\n",
      "Blei1: 2000\n",
      "Kreidemann1: 1804\n",
      "Vallentin1: 2000\n",
      "Hannsen1: 2000\n",
      "Hannsen2: 2000\n",
      "Olden1: 2000\n",
      "Olden2: 2000\n",
      "Bab1: 2000\n",
      "Bab2: 2000\n",
      "Martersteig1: 2000\n",
      "Martersteig2: 2000\n",
      "Martersteig3: 2000\n",
      "Kienscherf1: 2000\n",
      "Kienscherf2: 2000\n",
      "Kienscherf3: 2000\n",
      "Treitel1: 2000\n",
      "Treitel2: 2000\n",
      "Treitel3: 1931\n",
      "Bluemner1: 2000\n"
     ]
    }
   ],
   "source": [
    "max_amount_of_chunks = 3 # von jedem Autor werden höchstens 3 Chunks genommen\n",
    "min_chunk_size = 1800 # die Chunks müssen mindestens 1800 Tokens lang sein\n",
    "max_chunk_size = 2000 # und höchstens 2000 Tokens\n",
    "\n",
    "reference_pca_hac = {} # es wird wieder ein Dictionary in der Form Autor:[Tokens] erstellt\n",
    "\n",
    "for author in reference_corpus:\n",
    "    \n",
    "    chunk_start = 0\n",
    "    chunk_end = max_chunk_size # Die Chunks umfassen fürs erste die Tokens 0 bis 2000\n",
    "    \n",
    "    for n in range(max_amount_of_chunks): # Es wird 3 Mal über alle Texte iteriert\n",
    "    \n",
    "        while chunk_end <= max_amount_of_chunks * max_chunk_size:\n",
    "            tokens=reference_corpus[author][chunk_start:chunk_end] # Tokens 0 bis 2000 werden entnommen\n",
    "            if len(tokens) >= min_chunk_size: # es wird überprüft, ob es sich dabei um mehr als 1800 Tokens hält\n",
    "                author_short = author.split(\"_\")[1] # Vornamen werden gelöscht für übersichtlichere Darstellung bei der PCA\n",
    "                reference_pca_hac[f\"{author_short}{int(chunk_end/max_chunk_size)}\"]=tokens # Die Tokens werden dem Dict angefügt\n",
    "            chunk_start+=max_chunk_size # Beginn und Ende des Chunks werden erhöht für die nächste Iteration\n",
    "            chunk_end+=max_chunk_size\n",
    "            \n",
    "for author, text in reference_pca_hac.items():\n",
    "    print(f\"{author}: {len(text)}\")"
   ]
  },
  {
   "cell_type": "code",
   "execution_count": 42,
   "metadata": {},
   "outputs": [],
   "source": [
    "authors_pca_hac = [author for author in reference_pca_hac.keys()]\n",
    "documents_pca_hac = [\" \".join(text) for text in reference_pca_hac.values()]"
   ]
  },
  {
   "cell_type": "markdown",
   "metadata": {},
   "source": [
    "Auch von den drei Texten des Clowns werden jeweils die ersten 2000 Tokens genommen. Dieses Mal werden nicht mehr als diese drei Chunks des Clowns genommen, damit nicht einfach der Clown mit sich selbst clustert. Einer der Texte des Clowns ist ja leider kürzer als 2000 Tokens (sogar kürzer als 1800) und muss darum in nicht ganz vergleichbarer Länge verwendet werden."
   ]
  },
  {
   "cell_type": "code",
   "execution_count": 43,
   "metadata": {},
   "outputs": [
    {
     "name": "stdout",
     "output_type": "stream",
     "text": [
      "C1: 2000\n",
      "C2: 1641\n",
      "C3: 2000\n"
     ]
    }
   ],
   "source": [
    "max_chunk_size = 2000 # Chunks mit höchstens 2000 Tokens\n",
    "n = 1 # Nummer, mit der die 3 Chunks bezeichnet werden\n",
    "clown_pca_hac = {} # es wird wieder ein Dictionary in der Form Autor:[Tokens] erstellt\n",
    "\n",
    "for clown_text in corpus_clown: # Für jeden Text im Clown-Corpus:\n",
    "    \n",
    "    chunk_start = 0\n",
    "    chunk_end = max_chunk_size # Die Chunks umfassen die Tokens 0 bis höchstens 2000\n",
    "\n",
    "    tokens=corpus_clown[clown_text][0:max_chunk_size] # Tokens 0 bis maximal 2000  werden entnommen\n",
    "    clown_pca_hac[f\"C{n}\"]=tokens # Die Tokens werden dem Dict angefügt\n",
    "    n+=1 # Die Nummer für die Bezeichnung im Dicitionary wird erhöht              \n",
    "            \n",
    "for title, text in clown_pca_hac.items():\n",
    "    print(f\"{title}: {len(text)}\")"
   ]
  },
  {
   "cell_type": "code",
   "execution_count": 44,
   "metadata": {},
   "outputs": [],
   "source": [
    "clown_titles_pca_hac = [title for title in clown_pca_hac.keys()]\n",
    "clown_pca_hac = [\" \".join(text) for text in clown_pca_hac.values()]"
   ]
  },
  {
   "cell_type": "markdown",
   "metadata": {},
   "source": [
    "### 3.3.2 Durchführen der PCA\n",
    "\n",
    "\n",
    "PCA wird grundsätzlich verwendet, um ein Vieldimensionales Datenset auf wenige Dimensionen zu reduzieren, um es zusammenzufassen und in Scatterplots darstellen zu können. Für Authorship Attribution sind solche Scatterplots sinnvoll, da man in ihnen sehen könnte, welche Texte welcher Autor\\*innen aufgrund ihrer Ähnlichkeit miteinander clustern oder, wenn sie z.B. von anderen Autor\\*innen sind, weiter auseinander stehen. PCA modelliert dafür Korrelationen zwischen Wortfrequenzen der most frequent words (meistens Funktionswörter), die starte Autorensignale sein können (Kestemont et al. 2015, S. 108). PCA kann einfach mit Scikit-Learn durchgeführt werden.\n"
   ]
  },
  {
   "cell_type": "code",
   "execution_count": 45,
   "metadata": {},
   "outputs": [],
   "source": [
    "# Preprocessing mit Anpassen der Vokabulargröße\n",
    "s_reference_pca, s_clown_pca = preprocess_corpus(documents_pca_hac, clown_pca_hac, vocab_75)"
   ]
  },
  {
   "cell_type": "code",
   "execution_count": 46,
   "metadata": {},
   "outputs": [],
   "source": [
    "# Reduzieren der Dimensionen mit PCA\n",
    "pca = sklearn.decomposition.PCA(n_components=2)\n",
    "documents_proj = pca.fit_transform(s_reference_pca)\n",
    "var_exp = pca.explained_variance_ratio_"
   ]
  },
  {
   "cell_type": "code",
   "execution_count": 47,
   "metadata": {},
   "outputs": [
    {
     "name": "stdout",
     "output_type": "stream",
     "text": [
      "Die ursprüngliche DTM mit 28 Dokumenten umfasst 68 Dimensionen.\n",
      "\n",
      "Die dimensionsreduzierte DTM mit 28 Dokumenten umfasst 2 Dimensionen.\n"
     ]
    }
   ],
   "source": [
    "print(f'Die ursprüngliche DTM mit {s_reference_pca.shape[0]} Dokumenten umfasst {s_reference_pca.shape[1]} Dimensionen.\\n')\n",
    "print(f'Die dimensionsreduzierte DTM mit {documents_proj.shape[0]} Dokumenten umfasst {documents_proj.shape[1]} Dimensionen.')"
   ]
  },
  {
   "cell_type": "code",
   "execution_count": 48,
   "metadata": {},
   "outputs": [],
   "source": [
    "def plot_pca(document_proj, var_exp, labels):\n",
    "    \n",
    "    fig, ax = plt.subplots(figsize=(10, 10))\n",
    "    x, y = documents_proj[:, 0], documents_proj[:, 1]\n",
    "    ax.scatter(x, y, facecolors='none')\n",
    "                    \n",
    "    for p1, p2, author in zip(x, y, labels):\n",
    "        color = 'red' if author in clown_names else 'black'\n",
    "        ax.text(p1, p2, \n",
    "                     author, \n",
    "                     ha='center',\n",
    "                     color=color, \n",
    "                     va='center', \n",
    "                     fontsize=12)\n",
    "\n",
    "    # add variance information to the axis labels:\n",
    "    ax.set_xlabel(f'PC1 ({var_exp[0] * 100:.2f}%)')\n",
    "    ax.set_ylabel(f'PC2 ({var_exp[1] * 100:.2f}%)')"
   ]
  },
  {
   "cell_type": "code",
   "execution_count": 49,
   "metadata": {},
   "outputs": [],
   "source": [
    "all_documents = np.vstack((s_reference_pca, s_clown_pca))\n",
    "all_documents = preprocessing.scale(np.vstack((s_reference_pca, s_clown_pca)))\n",
    "\n",
    "pca = sklearn.decomposition.PCA(n_components=2)\n",
    "documents_proj = pca.fit_transform(all_documents)\n",
    "var_exp = pca.explained_variance_ratio_"
   ]
  },
  {
   "cell_type": "code",
   "execution_count": 50,
   "metadata": {},
   "outputs": [
    {
     "data": {
      "image/png": "[encoded data removed]",
      "text/plain": [
       "<Figure size 720x720 with 1 Axes>"
      ]
     },
     "metadata": {
      "needs_background": "light"
     },
     "output_type": "display_data"
    }
   ],
   "source": [
    "plot_pca(documents_proj, var_exp, list(authors_pca_hac) + list(clown_titles_pca_hac))"
   ]
  },
  {
   "cell_type": "markdown",
   "metadata": {},
   "source": [
    "**Interpretation**\n",
    "\n",
    "PCA erweist sich als ziemlich erfolglos für die untersuchten Texte. Während zwar viele Textchunks grundsätzlich miteinander clustern, können auch Textchunks derselben Autoren weit voneinander entfernt stehen. Auch die Texte des Clowns weisen keine besonders große Nähe zueinander auf. Das Scatterplot ist schwer zu interpretieren, für den Urheber der \"Clown\"-Texte gibt es keinen Aufschluss."
   ]
  },
  {
   "cell_type": "markdown",
   "metadata": {},
   "source": [
    "### 3.3.3 Durchführen der HAC\n",
    "\n",
    "Das Ziel des hierarchical agglomerative clustering ist es, Datenpunkte aufgrund großer Ähnlichkeiten zusammenzufassen. Während zu Beginn jeder Datenpunkt als einzelner Cluster betrachtet wird, werden diese Datenpunkte schrittweise zu Clustern zusammengefasst, bis am Ende alle Datenpunkte ein Cluster bilden. Dieser Prozess kann in einem Dendogramm (Baumdiagramm) abgebildet werden (Gadakari 2019). Die Zusammenfassung der Datenpunkte zu Clustern geschieht durch Berechnung eines Ähnlichkeitsmaßes (linkage), das auf verschiedene Arten berechnet werden kann („single“ = minimaler Abstand aller Elementpaare aus den beiden Clustern; „complete“ = maximaler Abstand aller Elementpaare aus beiden Clustern, „average“ = Durchschnitt aller Punkte). Im Folgenden werden zuerst die Distanzen zwischen allen Dokumenten („Clown“-Dokumente und Referenztexte wurden hierfür zusammengefasst) berechnet, danach wird mit der Einstellung der Berechnungsweise daraus das Linkage-Objekt erstellt, durch das dann Dendrogramm erzeugt wird. "
   ]
  },
  {
   "cell_type": "code",
   "execution_count": 51,
   "metadata": {},
   "outputs": [],
   "source": [
    "# Preprocessing mit Anpassen der Vokabulargröße\n",
    "s_reference_hac, s_clown_hac = preprocess_corpus(documents_pca_hac, clown_pca_hac, vocab_100)\n",
    "all_documents = np.vstack((s_reference_hac, s_clown_hac))\n",
    "all_documents = preprocessing.scale(np.vstack((s_reference_hac, s_clown_hac)))"
   ]
  },
  {
   "cell_type": "code",
   "execution_count": 52,
   "metadata": {},
   "outputs": [],
   "source": [
    "# Berechnung der Distanzen\n",
    "dm = scidist.pdist(all_documents, 'cosine')\n",
    "\n",
    "# Erstellen des Dendrogramms\n",
    "linkage_object = hierarchy.linkage(dm, method='average')"
   ]
  },
  {
   "cell_type": "code",
   "execution_count": 53,
   "metadata": {},
   "outputs": [],
   "source": [
    "# Funktion zur Darstellung des Dendrogramms\n",
    "\n",
    "def plot_tree_h(linkage_object, labels, figsize=(10, 5), ax=None):\n",
    "    if ax is None:\n",
    "        fig, ax = plt.subplots(figsize=figsize)\n",
    "    with plt.rc_context({'lines.linewidth': 1.0}):\n",
    "        hierarchy.dendrogram(\n",
    "            linkage_object, \n",
    "            labels=labels, \n",
    "            ax=ax,\n",
    "            link_color_func=lambda c: 'black',\n",
    "            leaf_font_size=10, \n",
    "            leaf_rotation=0,\n",
    "            orientation='left')                 # horizontal\n",
    "            \n",
    "    # Remove ticks and spines\n",
    "    ax.xaxis.set_ticks_position('none')\n",
    "    ax.yaxis.set_ticks_position('none')\n",
    "    for s in ax.spines.values():\n",
    "        s.set_visible(False)\n",
    "\n",
    "    ylabels = ax.get_ymajorticklabels()\n",
    "    for label in ylabels:                           # ylabels mit rot highlighten\n",
    "        if label.get_text() in clown_titles_pca_hac:\n",
    "            label.set_color('red')"
   ]
  },
  {
   "cell_type": "code",
   "execution_count": 54,
   "metadata": {},
   "outputs": [
    {
     "data": {
      "image/png": "[encoded data removed]",
      "text/plain": [
       "<Figure size 648x432 with 1 Axes>"
      ]
     },
     "metadata": {
      "needs_background": "light"
     },
     "output_type": "display_data"
    }
   ],
   "source": [
    "plot_tree_h(linkage_object, authors_pca_hac + clown_titles_pca_hac, figsize=(9, 6))"
   ]
  },
  {
   "cell_type": "markdown",
   "metadata": {},
   "source": [
    "**Interpretation**\n",
    "\n",
    "Auch hier clustern nicht einmal die Texte des \"Clowns\" mit sich selbst, Ähnlichkeiten der Textchunks der Autorenkandidaten sind durchaus zu beobachten (z.B. Friedell, Hannsen, Olden), gleichzeitig weisen die Texte der laut Delta wahrscheinlichsten Kandidaten Martersteig und Kienscherf auch mit sich selbst keine große Ähnlichkeit auf. Genau wie die PCA bleibt auch das Ergebnis der HAC schwer zu interpretieren. "
   ]
  },
  {
   "cell_type": "markdown",
   "metadata": {},
   "source": [
    "# 4. Diskussion\n",
    "\n",
    "Ein eindeutiges Ergebnis, wer hinter dem Pseudonym „von einem Clown“ im Zeitraum von 1908 bis 1910 drei Texte für die Theaterzeitschrift *Die Schaubühne* verfasst hat, hat diese Untersuchung nicht ergeben. Während sich PCA und HAC als Methoden für dieses Korpus als völlig ungeeignet erwiesen und teilweise nicht einmal Ähnlichkeiten zwischen den Texten des unbekannten Autors selbst feststellen konnten (dass es sich beim Autor hinter allen „Clown“-Texten um ein und dieselbe Person handelt, ist immerhin relativ sicher, einerseits aufgrund der für eine\\*n menschliche\\*n Leser\\*in erkennbaren stilistischen Gemeinsamkeiten, andererseits aber auch, weil der Autor in der ersten Person Singular z.B. in „Theatertrust“ auf den früheren Text „Menschenhandel“ mit „wie ich bereits in einer früheren Schrift ausführlich nachgewiesen habe“ verweist), konnte mit Burrows Delta zumindest ein starker Verdacht ermittelt werden. Burrows Delta erwies sich dabei auch nur mit Tokens als zielführend, nicht aber mit Zeichen-N-Grammen, mit welchen keine eindeutigen und nicht interpretierbare Ergebnisse ermittelt wurden. \n",
    "\n",
    "Burrows Delta mit Tokens lässt Otto Johannes Kienscherf (7. April 1868 Magdeburg bis 11. Januar 1957 Hannover), Schauspieler, Regisseur und Dramaturg, als „Clown“ vermuten. Biographisch ist Kienscherf auf jeden Fall als „Clown“ denkbar. Neben dem Theater schrieb er Artikel für Tageszeitungen. Darüber hinaus beteiligte sich an der Ausbildung des Schauspielernachwuchses und setzte sich als Obmann der Genossenschaft Deutscher Bühnenangehöriger für die Verbesserung der sozialen Absicherung und eine Erhöhung der Tarifverträge für Schauspieler\\*innen ein (Gilbert 2015). Vom „Clown“ gibt es drei Texte in der *Schaubühne*: „Moderne Sklaven“ über die sklavenhaften, prekären Arbeitsbedingungen für Schauspieler\\*innen; „Menschenhandel“ direkt in der Me-Too-Debatte, das davon handelt, wie eine junge Schauspielerin von einem Theaterdirektor nach einem Besuch in dessen Zimmer engagiert wird; und Theatertrust über die schlechte Bezahlung von Schauspieler*innen. \n",
    "\n",
    "Problematisch bei den „Clown“-Texten, was eventuell zu den uneindeutigen Ergebnissen führt, sind außerdem die Unterschiede im Genre. „Theatertrust“ und „Moderne Sklaven“ sind relativ sachlich verfasst und der Autor beschreibt hier vor allem Fakten und seine Sichtweise, während „Menschenhandel“ in Form einer Geschichte, mit direkten Reden, verfasst ist und damit die Ergebnisse vielleicht schwerer interpretierbar macht. Darüber hinaus ist das Problem nicht außer Acht zu lassen, dass der richtige Autor der Texte vielleicht von Beginn an nicht berücksichtigt wurde, da er entweder nie für die *Schaubühne* unter Klarnamen geschrieben hat, manuell bereits zu früh aussortiert wurde, weil er aufgrund anderer Genres oder ganz anderer Themen als zu unplausibel erschienen ist, oder außer mit N-Grammen nicht weiter berücksichtigt wurde, weil zu wenig Tokens zu finden waren.\n",
    "\n",
    "Da jedoch sowohl der biographische Hintergrund als auch Delta mit Tokens so stark auf Otto Kienscherf hindeuten, soll zumindest für das Projekt im Rahmen dieses Seminars **Otto Kienscherf** als „Clown“ betrachtet werden. \n"
   ]
  },
  {
   "cell_type": "markdown",
   "metadata": {},
   "source": [
    "## Quellen\n",
    "\n",
    "\n",
    "- Auerbach, Alfred: Vor- und Frühgeschichte des Gebiets von Ostthüringen zwischen Elster und Sahle, in: Geschichte der Stadt Weide in Einzeldarstellungen. 1 Band, 2, Heft, Thomas & Hubert, Weida 1927. \n",
    "- Austrian Academy of Sciences / Austrian Centre for Digital Humanities and Cultural Heritage: [Siegfried Jacobsohn: \"Die Schaubühne\"](https://www.oeaw.ac.at/de/acdh/projects/die-schaubuehne-siegfried-jacobsohn), 2022. \n",
    "- Blei, Franz: Erdachte Geschehnisse. Zehn Studien. Georg Müller, München und Leipzig, 1911.\n",
    "- Evert, Stefan et al.: Understanding and explaining Delta measures for authorship attribution, in: Digital Scholarship in the Humanities, 2017, Vol. 32, Supplement 2, S. 5-16. \n",
    "- Gadakari, Mahesh: [Hierarchical Agglomerative Clustering (HAC) with Single linkage method]( https://medium.com/@MaheshGadakari/hierarchical-agglomerative-clustering-hac-with-single-linkage-method-1159fa623d52), 2019. \n",
    "- Jacobsohn, Siegfried: Die Schaubühne (Bände 3.1 bis 8.2), 1906 bis 1913. \n",
    "- Kestemont, Mike et al: Collaborative authorship in the twelfth century: A stylometric study of Hildegard of Bingen and Guibert of Gembloux, in: Digital Scholarship in the Humanities, 2015, Vol. 30, No. 2, S. 199-224. \n",
    "- Kienscherf , Otto Johannes:  Schaubühne und Publikum, in: [Badisches Landestheater Karlsruhe. Almanach 1930](https://digital.blb-karlsruhe.de/blbihd/theaterzettel/periodical/titleinfo/1160900), hrsg. von Otto Kienscherf und Walther Landgrebe, Karlsruhe 1930, S. 34-38.\n",
    "- Gilbert, René: [Otto Johannes Kienscherf](https://stadtlexikon.karlsruhe.de/index.php/De:Lexikon:bio-0372), in: Stadtlexikon Karlsruhe, 2015. \n",
    "- Kienscherf , Otto Johannes: [Die Schaubühne der Zukunft](https://digi.ub.uni-heidelberg.de/diglit/suedwestdeutsche_rundschau1902/0315/image,info), in: Südwestdeutsche Rundschau. Halbmonatsschrift für deutsche Art und Kunst, Frankfurt a.M. 1902, Heft 8, S. 281-286.\n",
    "- Kienscherf , Otto Johannes: Scham wider Kunst, in: [Badisches Landestheater Karlsruhe. Almanach 1926/27](https://digital.blb-karlsruhe.de/blbihd/theaterzettel/periodical/titleinfo/1160900), hrsg. im Auftrag der Generaldirektion des Badischen Landestheaters von Werner Hugo Kaufmann, München 1926/27, S. 116-124. \n",
    "- Kienscherf , Otto Johannes: Vom künstlerischen Problem des Schauspielers, in: [Badisches Landestheater Karlsruhe. Almanach 1929]( https://digital.blb-karlsruhe.de/blbihd/theaterzettel/periodical/titleinfo/1160900), hrsg. vom Verlag Theaterkunst – Otto Glenk, München 1929, S. 45-58.\n",
    "- Martersteig, Max: Der Schauspieler. Ein künstlerisches Problem. Eine Studie. Eugen Diedrichs, Leipzig 1900.\n",
    "- Martersteig, Max: Die Bühne der Neuzeit, in: Das deutsche Theater im neunzehnten Jahrhundert. Eine kulturgeschichtliche Darstellung, Breitkopf & Härtel, Leipzig 1924. \n",
    "- Martersteig, Max: Die ethische Aufgabe der Schaubühne. Eine Schillerrede, Insel-Verlag, Leipzig 1912. \n"
   ]
  },
  {
   "cell_type": "code",
   "execution_count": null,
   "metadata": {},
   "outputs": [],
   "source": []
  }
 ],
 "metadata": {
  "kernelspec": {
   "display_name": "Python 3",
   "language": "python",
   "name": "python3"
  },
  "language_info": {
   "codemirror_mode": {
    "name": "ipython",
    "version": 3
   },
   "file_extension": ".py",
   "mimetype": "text/x-python",
   "name": "python",
   "nbconvert_exporter": "python",
   "pygments_lexer": "ipython3",
   "version": "3.8.5"
  }
 },
 "nbformat": 4,
 "nbformat_minor": 4
}
